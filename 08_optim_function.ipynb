{
 "cells": [
  {
   "cell_type": "markdown",
   "id": "00bbf070",
   "metadata": {},
   "source": [
    "# 최적화 함수 (Optimizer)"
   ]
  },
  {
   "cell_type": "code",
   "execution_count": 1,
   "id": "c2104f1d",
   "metadata": {},
   "outputs": [],
   "source": [
    "import numpy as np\n",
    "import pandas as pd"
   ]
  },
  {
   "cell_type": "markdown",
   "id": "d4ef5cd8",
   "metadata": {},
   "source": [
    "### 간단한 SGD"
   ]
  },
  {
   "cell_type": "code",
   "execution_count": 3,
   "id": "95cbe209",
   "metadata": {},
   "outputs": [
    {
     "data": {
      "text/plain": [
       "array([-0.28173626, -0.28909617, -0.29011436,  1.14333677,  1.88943881,\n",
       "       -1.33162266,  0.7845612 ,  1.52756167,  1.67841465, -1.95105059])"
      ]
     },
     "execution_count": 3,
     "metadata": {},
     "output_type": "execute_result"
    }
   ],
   "source": [
    "data_sample = np.random.uniform(-2, 2, size=10)\n",
    "\n",
    "data_sample"
   ]
  },
  {
   "cell_type": "code",
   "execution_count": 4,
   "id": "cb38fb64",
   "metadata": {},
   "outputs": [],
   "source": [
    "def loss(x):           # 손실 함수\n",
    "    return x ** 2\n",
    "\n",
    "def gradient(x):       # 기울기 함수\n",
    "    return 2 * x"
   ]
  },
  {
   "cell_type": "code",
   "execution_count": null,
   "id": "b92bff85",
   "metadata": {},
   "outputs": [],
   "source": [
    "def sgd(lr=0.1, epochs=10):\n",
    "    w = np.random.uniform(-2, 2)     # 초기 가중치\n",
    "    history = [w]\n",
    "\n",
    "    for i in range(epochs):\n",
    "        sample = np.random.choice(data_sample)\n",
    "        grad = gradient(sample)\n",
    "        w -= lr * grad\n",
    "        history.append(w)\n",
    "        \n",
    "    return history\n",
    "\n"
   ]
  }
 ],
 "metadata": {
  "kernelspec": {
   "display_name": "ml_env",
   "language": "python",
   "name": "python3"
  },
  "language_info": {
   "codemirror_mode": {
    "name": "ipython",
    "version": 3
   },
   "file_extension": ".py",
   "mimetype": "text/x-python",
   "name": "python",
   "nbconvert_exporter": "python",
   "pygments_lexer": "ipython3",
   "version": "3.12.11"
  }
 },
 "nbformat": 4,
 "nbformat_minor": 5
}
