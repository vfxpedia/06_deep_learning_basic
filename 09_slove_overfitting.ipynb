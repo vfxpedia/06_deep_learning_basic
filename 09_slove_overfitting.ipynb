{
 "cells": [
  {
   "cell_type": "markdown",
   "id": "82a1dde8",
   "metadata": {},
   "source": [
    "### 과적합 해결"
   ]
  },
  {
   "cell_type": "code",
   "execution_count": 32,
   "id": "d93684ad",
   "metadata": {},
   "outputs": [],
   "source": [
    "import torch\n",
    "import torch.nn as nn\n",
    "import torch.optim as optim\n",
    "from torch.utils.data import DataLoader, random_split, TensorDataset\n",
    "import torchvision.datasets as datasets\n",
    "import torchvision.transforms as transforms\n",
    "\n",
    "import numpy as np\n",
    "import matplotlib.pyplot as plt"
   ]
  },
  {
   "cell_type": "markdown",
   "id": "faa80d12",
   "metadata": {},
   "source": [
    "### 배치 정규화 적용"
   ]
  },
  {
   "cell_type": "code",
   "execution_count": 33,
   "id": "d0b53f49",
   "metadata": {},
   "outputs": [],
   "source": [
    "transform = transforms.Compose([transforms.ToTensor(), transforms.Normalize((0.5), (0.5))])\n",
    "dataset = datasets.MNIST(root='./data', train=True, transform=transform, download=True)"
   ]
  },
  {
   "cell_type": "code",
   "execution_count": 34,
   "id": "24db76b2",
   "metadata": {},
   "outputs": [
    {
     "data": {
      "text/plain": [
       "Dataset MNIST\n",
       "    Number of datapoints: 60000\n",
       "    Root location: ./data\n",
       "    Split: Train\n",
       "    StandardTransform\n",
       "Transform: Compose(\n",
       "               ToTensor()\n",
       "               Normalize(mean=0.5, std=0.5)\n",
       "           )"
      ]
     },
     "execution_count": 34,
     "metadata": {},
     "output_type": "execute_result"
    }
   ],
   "source": [
    "dataset"
   ]
  },
  {
   "cell_type": "code",
   "execution_count": 35,
   "id": "33c75a30",
   "metadata": {},
   "outputs": [],
   "source": [
    "# 데이터 분할\n",
    "\n",
    "train_size = int(0.8 * len(dataset))\n",
    "val_size = len(dataset) - train_size\n",
    "\n",
    "train_data, val_data = random_split(dataset, [train_size, val_size])\n",
    "train_loader = DataLoader(train_data, batch_size=64, shuffle=True)\n",
    "val_loader = DataLoader(val_data, batch_size=64, shuffle=False)"
   ]
  },
  {
   "cell_type": "code",
   "execution_count": 36,
   "id": "6b243ee0",
   "metadata": {},
   "outputs": [],
   "source": [
    "class SimpleNN(nn.Module):\n",
    "    def __init__(self, use_bn=False):\n",
    "        super(SimpleNN, self).__init__()\n",
    "        self.fc1 = nn.Linear(28 * 28, 128)\n",
    "        self.bn1 = nn.BatchNorm1d(128) if use_bn else nn.Identity()\n",
    "        self.fc2 = nn.Linear(128, 64)\n",
    "        self.bn2 = nn.BatchNorm1d(64) if use_bn else nn.Identity()\n",
    "        self.fc3 = nn.Linear(64, 10)\n",
    "\n",
    "    def forward(self, x):\n",
    "        x = x.view(x.size(0), -1)                 # 평탄화, (배치크기, h, w) -> (배치크기, feature_size)\n",
    "        x = torch.relu(self.bn1(self.fc1(x)))     # 활성화 함수 적용\n",
    "        x = torch.relu(self.bn2(self.fc2(x)))\n",
    "        x = self.fc3(x)\n",
    "        return x"
   ]
  },
  {
   "cell_type": "code",
   "execution_count": 37,
   "id": "b0629f00",
   "metadata": {},
   "outputs": [],
   "source": [
    "def train(model, train_loader, val_loader, epochs=5):\n",
    "    criterion = nn.CrossEntropyLoss()                   # 손실 함수 초기화, CrossEntropyLoss는 분류 문제에서 사용\n",
    "    optimizer = optim.Adam(model.parameters(), lr=0.01) # 최적화 알고리즘 초기화\n",
    "\n",
    "    for epoch in range(epochs):\n",
    "        # 학습 모드로 전환\n",
    "        model.train()\n",
    "        for images, labels in train_loader:\n",
    "            images = images.view(images.size(0), -1)    # 평탄화, 이미지 텐서를 벡터로 변환\n",
    "            optimizer.zero_grad()\n",
    "            outputs = model(images)                     # 모델 출력 계산, 내부적으로 model.forward(images) 호출\n",
    "            loss = criterion(outputs, labels)           # 손실 계산\n",
    "            loss.backward()                             # 역전파\n",
    "            optimizer.step()                            # 가중치 업데이트\n",
    "\n",
    "        # 검증 모드로 전환\n",
    "        model.eval()\n",
    "        val_loss = 0.0\n",
    "        correct = 0\n",
    "\n",
    "        with torch.no_grad():\n",
    "            for images, labels in val_loader:\n",
    "                images = images.view(images.size(0), -1)\n",
    "                outputs = model(images)\n",
    "                val_loss += criterion(outputs, labels).item()\n",
    "                preds = outputs.argmax(dim=1)\n",
    "                correct += (preds == labels).sum().item()\n",
    "\n",
    "        print(f\"Epoch {epoch+1}/{epochs} | Val loss: {val_loss / len(val_loader):.4f}, Accuracy: {correct / len(val_data):4f}\")"
   ]
  },
  {
   "cell_type": "code",
   "execution_count": 43,
   "id": "00b8b74f",
   "metadata": {},
   "outputs": [
    {
     "name": "stdout",
     "output_type": "stream",
     "text": [
      "배치 정규화 적용 안함\n",
      "Epoch 1/5 | Val loss: 0.2906, Accuracy: 0.908250\n",
      "Epoch 2/5 | Val loss: 0.3143, Accuracy: 0.908917\n",
      "Epoch 3/5 | Val loss: 0.2545, Accuracy: 0.930833\n",
      "Epoch 4/5 | Val loss: 0.2978, Accuracy: 0.909917\n",
      "Epoch 5/5 | Val loss: 0.2287, Accuracy: 0.936833\n",
      "\n",
      "배치 정규화 적용\n",
      "Epoch 1/5 | Val loss: 0.1253, Accuracy: 0.961583\n",
      "Epoch 2/5 | Val loss: 0.1033, Accuracy: 0.968667\n",
      "Epoch 3/5 | Val loss: 0.0863, Accuracy: 0.972667\n",
      "Epoch 4/5 | Val loss: 0.0822, Accuracy: 0.976333\n",
      "Epoch 5/5 | Val loss: 0.0830, Accuracy: 0.977250\n"
     ]
    }
   ],
   "source": [
    "print(\"배치 정규화 적용 안함\")\n",
    "model_without_bn = SimpleNN(use_bn=False)\n",
    "train(model_without_bn, train_loader, val_loader)\n",
    "\n",
    "print(\"\\n배치 정규화 적용\")\n",
    "model_with_bn = SimpleNN(use_bn=True)\n",
    "train(model_with_bn, train_loader, val_loader)"
   ]
  },
  {
   "cell_type": "code",
   "execution_count": 39,
   "id": "9afc23ff",
   "metadata": {},
   "outputs": [
    {
     "name": "stdout",
     "output_type": "stream",
     "text": [
      "batch_size: 16\n",
      "Epoch 1/5 | Val loss: 0.1296, Accuracy: 0.961167\n",
      "Epoch 2/5 | Val loss: 0.1271, Accuracy: 0.961083\n",
      "Epoch 3/5 | Val loss: 0.1140, Accuracy: 0.963917\n",
      "Epoch 4/5 | Val loss: 0.0891, Accuracy: 0.972500\n",
      "Epoch 5/5 | Val loss: 0.0825, Accuracy: 0.974583\n",
      "batch_size: 32\n",
      "Epoch 1/5 | Val loss: 0.1173, Accuracy: 0.962083\n",
      "Epoch 2/5 | Val loss: 0.0977, Accuracy: 0.969333\n",
      "Epoch 3/5 | Val loss: 0.0921, Accuracy: 0.970500\n",
      "Epoch 4/5 | Val loss: 0.0983, Accuracy: 0.971167\n",
      "Epoch 5/5 | Val loss: 0.0812, Accuracy: 0.977083\n",
      "batch_size: 128\n",
      "Epoch 1/5 | Val loss: 0.1265, Accuracy: 0.959167\n",
      "Epoch 2/5 | Val loss: 0.1004, Accuracy: 0.968750\n",
      "Epoch 3/5 | Val loss: 0.0984, Accuracy: 0.970750\n",
      "Epoch 4/5 | Val loss: 0.1024, Accuracy: 0.968417\n",
      "Epoch 5/5 | Val loss: 0.0977, Accuracy: 0.971833\n"
     ]
    }
   ],
   "source": [
    "for batch_size in [16, 32, 128]:\n",
    "    print(f\"batch_size: {batch_size}\")\n",
    "    train_loader = DataLoader(train_data, batch_size, shuffle=True)\n",
    "    val_loader = DataLoader(val_data, batch_size=batch_size, shuffle=False)\n",
    "    model = SimpleNN(use_bn=True)\n",
    "    train(model, train_loader, val_loader)"
   ]
  },
  {
   "cell_type": "markdown",
   "id": "a8ed155a",
   "metadata": {},
   "source": [
    "### Dropout 적용"
   ]
  },
  {
   "cell_type": "code",
   "execution_count": null,
   "id": "cc84b461",
   "metadata": {},
   "outputs": [],
   "source": [
    "class DropoutNN(nn.Module):\n",
    "    def __init__(self, dropout_rate=0.5):\n",
    "        super(DropoutNN, self).__init__()\n",
    "        self.fc1 = nn.Linear(28 * 28, 128)\n",
    "        self.dropout1 = nn.Dropout(dropout_rate)\n",
    "        self.fc2 = nn.Linear(128, 64)\n",
    "        self.dropout2 = nn.Dropout(dropout_rate)\n",
    "        self.fc3 = nn.Linear(64, 10)\n",
    "\n",
    "    def forward(self, x):\n",
    "        x = x.view(x.size(0), -1)\n",
    "        x = torch.relu(self.dropout1(self.fc1(x)))        # train 할때는 dropout 적용 o -> 랜덤한 뉴런이 비활성화, \n",
    "        x = torch.relu(self.dropout2(self.fc2(x)))        # eval 할때는 dropout 적용 x -> 모든 뉴런 학습, full connection -> relu 적용\n",
    "        x = self.fc3(x)\n",
    "        return x"
   ]
  },
  {
   "cell_type": "code",
   "execution_count": null,
   "id": "ea396066",
   "metadata": {},
   "outputs": [
    {
     "name": "stdout",
     "output_type": "stream",
     "text": [
      "Dropout rate: 0.2\n",
      "Epoch 1/5 | Val loss: 0.3565, Accuracy: 0.901333\n",
      "Epoch 2/5 | Val loss: 0.3210, Accuracy: 0.909167\n",
      "Epoch 3/5 | Val loss: 0.2751, Accuracy: 0.922250\n",
      "Epoch 4/5 | Val loss: 0.3561, Accuracy: 0.903250\n",
      "Epoch 5/5 | Val loss: 0.3298, Accuracy: 0.911583\n",
      "Dropout rate: 0.5\n",
      "Epoch 1/5 | Val loss: 0.7270, Accuracy: 0.837000\n",
      "Epoch 2/5 | Val loss: 0.8080, Accuracy: 0.751083\n",
      "Epoch 3/5 | Val loss: 0.7510, Accuracy: 0.823583\n",
      "Epoch 4/5 | Val loss: 0.6892, Accuracy: 0.821417\n",
      "Epoch 5/5 | Val loss: 0.7594, Accuracy: 0.801083\n",
      "Dropout rate: 0.8\n",
      "Epoch 1/5 | Val loss: 2.3016, Accuracy: 0.114250\n",
      "Epoch 2/5 | Val loss: 2.3015, Accuracy: 0.114250\n",
      "Epoch 3/5 | Val loss: 2.3033, Accuracy: 0.103000\n",
      "Epoch 4/5 | Val loss: 2.3022, Accuracy: 0.114250\n",
      "Epoch 5/5 | Val loss: 2.3023, Accuracy: 0.114250\n"
     ]
    }
   ],
   "source": [
    "train_loader = DataLoader(train_data, batch_size=64, shuffle=True)\n",
    "val_loader = DataLoader(val_data, batch_size=64, shuffle=False)\n",
    "\n",
    "# dropout_rate 커진다 -> 더 많은 뉴런을 끈다 : 강한 정규화\n",
    "for rate in [0.2, 0.5, 0.8]:\n",
    "    print(f\"Dropout rate: {rate}\")\n",
    "    model = DropoutNN(dropout_rate=rate)\n",
    "    train(model, train_loader, val_loader)"
   ]
  },
  {
   "cell_type": "code",
   "execution_count": null,
   "id": "3e468a3b",
   "metadata": {},
   "outputs": [],
   "source": [
    "# 훈련/ 학습 시는 dropout 가능 o\n",
    "# 테스트/ 검증 시에는 dropout x, 모든 뉴런 학습"
   ]
  },
  {
   "cell_type": "code",
   "execution_count": 44,
   "id": "04904513",
   "metadata": {},
   "outputs": [],
   "source": [
    "model = DropoutNN(dropout_rate=0.2)"
   ]
  },
  {
   "cell_type": "code",
   "execution_count": null,
   "id": "f5c78f66",
   "metadata": {},
   "outputs": [
    {
     "name": "stdout",
     "output_type": "stream",
     "text": [
      "True\n"
     ]
    }
   ],
   "source": [
    "model.eval()                             # eval: dropout 적용 x -> 모든 뉴런 학습, 그래서 결과가 같음\n",
    "with torch.no_grad():                    # 따라서 allclose : True\n",
    "    images, _ = next(iter(val_loader))\n",
    "    images = images.view(images.size(0), -1)\n",
    "\n",
    "    out1 = model(images)\n",
    "    out2 = model(images)\n",
    "\n",
    "    print(torch.allclose(out1, out2))    # allclose : 두 텐서가 같은지 확인"
   ]
  },
  {
   "cell_type": "code",
   "execution_count": null,
   "id": "28903332",
   "metadata": {},
   "outputs": [
    {
     "name": "stdout",
     "output_type": "stream",
     "text": [
      "False\n"
     ]
    }
   ],
   "source": [
    "model.train()                             # train 할때는 dropout 적용 o -> 랜덤한 뉴런이 비활성화, 그래서 결과가 다르게 나옴\n",
    "                                          # 따라서 allclose : False\n",
    "out1 = model(images)\n",
    "out2 = model(images)\n",
    "\n",
    "print(torch.allclose(out1, out2))"
   ]
  },
  {
   "cell_type": "code",
   "execution_count": 45,
   "id": "4239f050",
   "metadata": {},
   "outputs": [
    {
     "data": {
      "image/png": "[encoded data removed]",
      "text/plain": [
       "<Figure size 1000x500 with 10 Axes>"
      ]
     },
     "metadata": {},
     "output_type": "display_data"
    }
   ],
   "source": [
    "model.eval()\n",
    "with torch.no_grad():\n",
    "    images, _ = next(iter(val_loader))\n",
    "    images = images.view(images.size(0), -1)\n",
    "    outputs = model(images)\n",
    "    preds = outputs.argmax(dim=1)\n",
    "\n",
    "plt.figure(figsize=(10, 5))\n",
    "for i in range(10):\n",
    "    plt.subplot(2, 5, i+1)\n",
    "    plt.imshow(images[i].view(28, 28).cpu().numpy(), cmap='gray')\n",
    "    plt.title(f\"Pred: {preds[i].item()}\")\n",
    "    plt.axis('off')\n",
    "plt.tight_layout()\n",
    "plt.show()"
   ]
  },
  {
   "cell_type": "markdown",
   "id": "a0518a64",
   "metadata": {},
   "source": [
    "### Learning Rate Scheduler 적용"
   ]
  },
  {
   "cell_type": "code",
   "execution_count": 49,
   "id": "d7df7742",
   "metadata": {},
   "outputs": [],
   "source": [
    "class RealSimpleNN(nn.Module):\n",
    "    def __init__(self):\n",
    "        super(RealSimpleNN, self).__init__()\n",
    "        self.fc1 = nn.Linear(28 * 28, 128)\n",
    "        self.fc2 = nn.Linear(128, 64)\n",
    "        self.fc3 = nn.Linear(64, 10)\n",
    "\n",
    "    def forward(self, x):\n",
    "        x = x.view(x.size(0), -1)\n",
    "        x = torch.relu(self.fc1(x))\n",
    "        x = torch.relu(self.fc2(x))\n",
    "        x = self.fc3(x)\n",
    "        return x"
   ]
  },
  {
   "cell_type": "code",
   "execution_count": 52,
   "id": "4b3c0a2e",
   "metadata": {},
   "outputs": [],
   "source": [
    "def train_lr(model, train_loader, val_loader, optimizer, scheduler, epochs=10):\n",
    "    criterion = nn.CrossEntropyLoss()                   # 손실 함수 초기화, CrossEntropyLoss는 분류 문제에서 사용\n",
    "\n",
    "    for epoch in range(epochs):\n",
    "        # 학습 모드로 전환\n",
    "        model.train()\n",
    "        for images, labels in train_loader:\n",
    "            images = images.view(images.size(0), -1)    # 평탄화, 이미지 텐서를 벡터로 변환\n",
    "            optimizer.zero_grad()\n",
    "            outputs = model(images)                     # 모델 출력 계산, 내부적으로 model.forward(images) 호출\n",
    "            loss = criterion(outputs, labels)           # 손실 계산\n",
    "            loss.backward()                             # 역전파\n",
    "            optimizer.step()                            # 가중치 업데이트\n",
    "\n",
    "        # 검증 모드로 전환\n",
    "        model.eval()\n",
    "        val_loss = 0.0\n",
    "        correct = 0\n",
    "\n",
    "        with torch.no_grad():\n",
    "            for images, labels in val_loader:\n",
    "                images = images.view(images.size(0), -1)\n",
    "                outputs = model(images)\n",
    "                val_loss += criterion(outputs, labels).item()\n",
    "                preds = outputs.argmax(dim=1)\n",
    "                correct += (preds == labels).sum().item()\n",
    "        \n",
    "        scheduler.step()\n",
    "\n",
    "        print(f\"Epoch {epoch+1}/{epochs} | Val loss: {val_loss / len(val_loader):.4f}, Accuracy: {correct / len(val_data):4f}, Learning Rate: {scheduler.get_last_lr()[0]:.6f}\")"
   ]
  },
  {
   "cell_type": "code",
   "execution_count": 53,
   "id": "3f299e60",
   "metadata": {},
   "outputs": [
    {
     "name": "stdout",
     "output_type": "stream",
     "text": [
      "Epoch 1/10 | Val loss: 0.2969, Accuracy: 0.906167, Learning Rate: 0.010000\n",
      "Epoch 2/10 | Val loss: 0.2929, Accuracy: 0.912500, Learning Rate: 0.010000\n",
      "Epoch 3/10 | Val loss: 0.2894, Accuracy: 0.920417, Learning Rate: 0.001000\n",
      "Epoch 4/10 | Val loss: 0.1494, Accuracy: 0.955167, Learning Rate: 0.001000\n",
      "Epoch 5/10 | Val loss: 0.1364, Accuracy: 0.960000, Learning Rate: 0.001000\n",
      "Epoch 6/10 | Val loss: 0.1345, Accuracy: 0.960250, Learning Rate: 0.000100\n",
      "Epoch 7/10 | Val loss: 0.1295, Accuracy: 0.962917, Learning Rate: 0.000100\n",
      "Epoch 8/10 | Val loss: 0.1284, Accuracy: 0.962583, Learning Rate: 0.000100\n",
      "Epoch 9/10 | Val loss: 0.1282, Accuracy: 0.963167, Learning Rate: 0.000010\n",
      "Epoch 10/10 | Val loss: 0.1279, Accuracy: 0.964000, Learning Rate: 0.000010\n"
     ]
    }
   ],
   "source": [
    "model = RealSimpleNN()\n",
    "optimizer = optim.Adam(model.parameters(), lr=0.01)\n",
    "scheduler = optim.lr_scheduler.StepLR(optimizer, step_size=3, gamma=0.1)\n",
    "train_lr(model, train_loader, val_loader, optimizer, scheduler)"
   ]
  },
  {
   "cell_type": "code",
   "execution_count": null,
   "id": "ca728fef",
   "metadata": {},
   "outputs": [],
   "source": []
  }
 ],
 "metadata": {
  "kernelspec": {
   "display_name": "ml_env",
   "language": "python",
   "name": "python3"
  },
  "language_info": {
   "codemirror_mode": {
    "name": "ipython",
    "version": 3
   },
   "file_extension": ".py",
   "mimetype": "text/x-python",
   "name": "python",
   "nbconvert_exporter": "python",
   "pygments_lexer": "ipython3",
   "version": "3.12.11"
  }
 },
 "nbformat": 4,
 "nbformat_minor": 5
}
