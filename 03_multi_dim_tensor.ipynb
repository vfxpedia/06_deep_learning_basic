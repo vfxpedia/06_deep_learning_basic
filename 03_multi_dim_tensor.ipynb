{
 "cells": [
  {
   "cell_type": "markdown",
   "id": "18934ff3",
   "metadata": {},
   "source": [
    "# Pytorch Tensor"
   ]
  },
  {
   "cell_type": "markdown",
   "id": "8ee943d6",
   "metadata": {},
   "source": [
    "### Tensor 생성"
   ]
  },
  {
   "cell_type": "code",
   "execution_count": null,
   "id": "5796680d",
   "metadata": {},
   "outputs": [],
   "source": [
    "# !pip3 install torch torchvision"
   ]
  },
  {
   "cell_type": "code",
   "execution_count": null,
   "id": "88866ec7",
   "metadata": {},
   "outputs": [
    {
     "name": "stdout",
     "output_type": "stream",
     "text": [
      "tensor([1., 2., 3.])\n",
      "torch.float32\n",
      "torch.Size([3])\n",
      "torch.Size([3])\n",
      "t1의 차원 수:  1\n",
      "cpu\n",
      "False\n",
      "--------------------------------\n",
      "tensor([[1, 2, 3],\n",
      "        [4, 5, 6]])\n",
      "torch.int64\n",
      "torch.Size([2, 3])\n",
      "torch.Size([2, 3])\n",
      "t2의 차원 수:  2\n",
      "cpu\n",
      "False\n",
      "--------------------------------\n",
      "tensor([[[ 1,  2,  3],\n",
      "         [ 4,  5,  6]],\n",
      "\n",
      "        [[ 7,  8,  9],\n",
      "         [10, 11, 12]]])\n",
      "torch.int64\n",
      "torch.Size([2, 2, 3])\n",
      "torch.Size([2, 2, 3])\n",
      "t3의 차원 수:  3\n",
      "cpu\n",
      "False\n",
      "--------------------------------\n"
     ]
    }
   ],
   "source": [
    "import torch\n",
    "\n",
    "t1 = torch.tensor([1, 2, 3], dtype=torch.float)\n",
    "print(t1)\n",
    "print(t1.dtype)\n",
    "print(t1.shape)                             # shape은 기본적으로 .size()와 같다.\n",
    "print(t1.size())                            # size() 차원과 행, 열의 개수\n",
    "print('t1의 차원 수: ', t1.dim())            # 텐서의 차원 수\n",
    "print(t1.device)                            # 텐서가 저장된 장치 확인\n",
    "print(t1.requires_grad)                     # 텐서가 필요한 연산을 기록할지 여부\n",
    "print('--------------------------------')\n",
    "\n",
    "t2 = torch.tensor([[1, 2, 3], [4, 5, 6]])\n",
    "print(t2)\n",
    "print(t2.dtype)\n",
    "print(t2.shape)\n",
    "print(t2.size())\n",
    "print('t2의 차원 수: ', t2.dim())\n",
    "print(t2.device)\n",
    "print(t2.requires_grad)\n",
    "print('--------------------------------')\n",
    "t3 = torch.tensor([[[1, 2, 3], [4, 5, 6]], [[7, 8, 9], [10, 11, 12]]])\n",
    "print(t3)\n",
    "print(t3.dtype)\n",
    "print(t3.shape)\n",
    "print(t3.size())\n",
    "print('t3의 차원 수: ', t3.dim())\n",
    "print(t3.device)\n",
    "print(t3.requires_grad)\n",
    "print('--------------------------------')"
   ]
  },
  {
   "cell_type": "code",
   "execution_count": null,
   "id": "1f4ff8d8",
   "metadata": {},
   "outputs": [
    {
     "name": "stdout",
     "output_type": "stream",
     "text": [
      "tensor(7)\n",
      "torch.int64\n",
      "torch.Size([])\n",
      "torch.Size([])\n",
      "t1의 차원 수:  0\n",
      "cpu\n",
      "False\n"
     ]
    }
   ],
   "source": [
    "t1 = torch.tensor(7)               # 0차원 텐서, 스칼라\n",
    "print(t1)\n",
    "print(t1.dtype)\n",
    "print(t1.shape)\n",
    "print(t1.size())\n",
    "print('t1의 차원 수: ', t1.dim())\n",
    "print(t1.device)\n",
    "print(t1.requires_grad)"
   ]
  },
  {
   "cell_type": "code",
   "execution_count": null,
   "id": "89024355",
   "metadata": {},
   "outputs": [],
   "source": []
  },
  {
   "cell_type": "code",
   "execution_count": 48,
   "id": "9512837c",
   "metadata": {},
   "outputs": [
    {
     "name": "stdout",
     "output_type": "stream",
     "text": [
      "tensor([[1., 1., 1.],\n",
      "        [1., 1., 1.]])\n",
      "tensor([[0., 0., 0.],\n",
      "        [0., 0., 0.]])\n",
      "tensor([[-1.5665,  0.2138,  1.3153],\n",
      "        [-0.0628, -0.4314, -0.1012]])\n",
      "tensor([[1, 2, 3],\n",
      "        [4, 5, 6]])\n",
      "torch.int64\n",
      "torch.Size([2, 3])\n",
      "torch.Size([2, 3])\n",
      "x의 차원 수:  2\n",
      "x의 shape으로 one 채우기\n",
      " tensor([[1, 1, 1],\n",
      "        [1, 1, 1]])\n",
      "x의 shape으로 zero 채우기\n",
      " tensor([[0, 0, 0],\n",
      "        [0, 0, 0]])\n",
      "x의 shape으로 정규분포 랜덤 텐서 생성\n",
      " tensor([[-0.5874,  1.2125,  0.1124],\n",
      "        [-0.7210,  1.4080,  1.5052]])\n",
      "x의 shape으로 균등분포 랜덤 텐서 생성\n",
      " tensor([[0.8178, 0.6194, 0.3014],\n",
      "        [0.0924, 0.9888, 0.8478]])\n",
      "x의 shape으로 0~9 사이의 정수 랜덤 텐서 생성\n",
      " tensor([[1, 4, 6],\n",
      "        [3, 1, 3]])\n"
     ]
    }
   ],
   "source": [
    "# 0 또는 1 tensor 생성\n",
    "print(torch.ones(2, 3))    # 2행 3열의 1로 채워진 텐서, 자료형 float32\n",
    "print(torch.zeros(2, 3))   # 2행 3열의 0으로 채워진 텐서, 자료형 float32\n",
    "\n",
    "# 랜덤 텐서 생성\n",
    "print(torch.randn(2, 3))   # 2행 3열의 랜덤 텐서, 자료형 float32\n",
    "\n",
    "x = torch.tensor([[1, 2, 3], [4, 5, 6]])\n",
    "print(x)\n",
    "print(x.dtype)\n",
    "print(x.shape)\n",
    "print(x.size())\n",
    "print('x의 차원 수: ', x.dim())\n",
    "print(\"x의 shape으로 one 채우기\\n\", torch.ones_like(x))\n",
    "print(\"x의 shape으로 zero 채우기\\n\", torch.zeros_like(x))\n",
    "print(\"x의 shape으로 정규분포 랜덤 텐서 생성\\n\", torch.randn_like(x.float()))\n",
    "print(\"x의 shape으로 균등분포 랜덤 텐서 생성\\n\", torch.rand_like(x.float()))\n",
    "print(\"x의 shape으로 0~9 사이의 정수 랜덤 텐서 생성\\n\", torch.randint_like(x, 0, 10))\n"
   ]
  },
  {
   "cell_type": "code",
   "execution_count": 41,
   "id": "36897860",
   "metadata": {},
   "outputs": [
    {
     "name": "stdout",
     "output_type": "stream",
     "text": [
      "tensor([[ 8.7880,  9.1721],\n",
      "        [ 9.4976, 11.1841]])\n",
      "tensor([[ 8.6939, 11.4361],\n",
      "        [ 9.2095,  9.4319]])\n",
      "tensor([[-0.7044, -0.7547],\n",
      "        [ 0.4721,  0.1711]])\n",
      "tensor([[-1.7248,  0.6287,  0.7224],\n",
      "        [-2.6543, -0.2932,  0.8115]])\n",
      "tensor([[0.8344, 0.8353],\n",
      "        [0.8215, 0.7651]])\n",
      "tensor([[1, 3],\n",
      "        [4, 8]])\n",
      "tensor([[0.1367, 0.1268, 0.4859],\n",
      "        [0.3229, 0.8243, 0.8660]])\n",
      "tensor([[2.5553e+30, 8.2256e-43, 4.8587e-01],\n",
      "        [3.2288e-01, 8.2430e-01, 8.6598e-01]])\n"
     ]
    }
   ],
   "source": [
    "# 난수 생성\n",
    "# - 정규분포\n",
    "print(torch.normal(mean=10, std=1, size=(2, 2))) # 평균 10, 표준편차 1인 정규분포 데이터 샘플링\n",
    "print(torch.normal(10, 1, (2, 2)))               # 평균 10, 표준편차 1인 정규분포 데이터 샘플링\n",
    "print(torch.randn((2,2)))                        # 평균 0, 표준편차 1인 정규분포 데이터 샘플링\n",
    "print(torch.randn_like(x.float()))               # 난수 생성시 float 형태로 생성하기 때문에 int형태에서 난수 생성시 오류 발생\n",
    "\n",
    "\n",
    "# - 균등분포\n",
    "print(torch.rand(2, 2))                          # 0~1 사이의 균등분포 데이터 샘플링\n",
    "\n",
    "# - 정수 균등분포\n",
    "print(torch.randint(1, 10, (2, 2)))             # 1~10 사이의 정수 균등분포 데이터 샘플링\n",
    "print(torch.rand_like(x.float()))               # 1~10 사이의 정수 균등분포 데이터 샘플링\n",
    "\n",
    "# - 빈 텐서 생성\n",
    "print(torch.empty(2, 3))                        # 빈 텐서 생성, 초기화 되지 않은 텐서(쓰레기값)\n",
    "\n"
   ]
  },
  {
   "cell_type": "code",
   "execution_count": 44,
   "id": "8ab100c0",
   "metadata": {},
   "outputs": [
    {
     "name": "stdout",
     "output_type": "stream",
     "text": [
      "[1 2 3] <class 'numpy.ndarray'>\n",
      "tensor([1, 2, 3]) <class 'torch.Tensor'>\n",
      "[1 2 3] <class 'numpy.ndarray'>\n"
     ]
    }
   ],
   "source": [
    "# numpy ndarray 호환\n",
    "import numpy as np\n",
    "\n",
    "X = np.array([1, 2, 3])\n",
    "print(X, type(X))\n",
    "\n",
    "t = torch.from_numpy(X)\n",
    "print(t, type(t))\n",
    "\n",
    "X2 = t.numpy()\n",
    "print(X2, type(X2))"
   ]
  },
  {
   "cell_type": "markdown",
   "id": "64cfe1a2",
   "metadata": {},
   "source": [
    "### 연산"
   ]
  },
  {
   "cell_type": "code",
   "execution_count": 70,
   "id": "25a9c8e5",
   "metadata": {},
   "outputs": [
    {
     "name": "stdout",
     "output_type": "stream",
     "text": [
      "torch.Size([2, 3]) torch.Size([2, 3]) torch.Size([3, 2])\n",
      "============================================================\n",
      "a, b의 shape이 같으면 요소별 연산 수행\n",
      "tensor([[ 8., 10., 12.],\n",
      "        [14., 16., 18.]])\n",
      "tensor([[-6., -6., -6.],\n",
      "        [-6., -6., -6.]])\n",
      "tensor([[ 7., 16., 27.],\n",
      "        [40., 55., 72.]])\n",
      "tensor([[0.1429, 0.2500, 0.3333],\n",
      "        [0.4000, 0.4545, 0.5000]])\n",
      "tensor([[0., 0., 0.],\n",
      "        [0., 0., 0.]])\n",
      "tensor([[1., 2., 3.],\n",
      "        [4., 5., 6.]])\n",
      "tensor([[1.0000e+00, 2.5600e+02, 1.9683e+04],\n",
      "        [1.0486e+06, 4.8828e+07, 2.1768e+09]])\n",
      "tensor([[1.0000e+00, 2.5600e+02, 1.9683e+04],\n",
      "        [1.0486e+06, 4.8828e+07, 2.1768e+09]])\n",
      "============================================================\n",
      "a, c의 shape이 다르면 브로드캐스팅 수행\n",
      "============================================================\n",
      "a, c의 shape이 다르면 브로드캐스팅 수행\n",
      "tensor([[22., 28.],\n",
      "        [49., 64.]])\n"
     ]
    }
   ],
   "source": [
    "a = torch.tensor([[1, 2, 3], [4, 5, 6]], dtype=torch.float)\n",
    "b = torch.tensor([[7, 8, 9], [10, 11, 12]], dtype=torch.float)\n",
    "c = torch.tensor([[1, 2], [3, 4], [5, 6]], dtype=torch.float)\n",
    "\n",
    "print(a.shape, b.shape, c.shape)\n",
    "\n",
    "print(\"==\"*30)\n",
    "print(\"a, b의 shape이 같으면 요소별 연산 수행\")\n",
    "print(a + b)\n",
    "print(a - b)\n",
    "print(a * b)\n",
    "print(a / b)\n",
    "print(a // b)\n",
    "print(a % b)\n",
    "print(a ** b)\n",
    "print(a.pow(b))\n",
    "\n",
    "print(\"==\"*30)\n",
    "print(\"a, c의 shape이 다르면 브로드캐스팅 수행\")\n",
    "# print(a + c) # 브로드캐스팅 연산 불가, a, c의 마지막 축 크기가 다르기 때문에 브로드캐스팅 불가\n",
    "# print(a - c) # 브로드캐스팅 연산 불가, a, c의 마지막 축 크기가 다르기 때문에 브로드캐스팅 불가\n",
    "# print(a * c)\n",
    "# print(a / c)\n",
    "\n",
    "print(\"==\"*30)\n",
    "print(\"a, c의 shape이 다르면 브로드캐스팅 수행\")\n",
    "print(a @ c)\n",
    "# print(a / c)\n"
   ]
  },
  {
   "cell_type": "code",
   "execution_count": null,
   "id": "fba31225",
   "metadata": {},
   "outputs": [
    {
     "name": "stdout",
     "output_type": "stream",
     "text": [
      "tensor([[2., 3., 4.],\n",
      "        [5., 6., 7.]])\n",
      "tensor([[0., 1., 2.],\n",
      "        [3., 4., 5.]])\n",
      "tensor([[ 2.,  4.,  6.],\n",
      "        [ 8., 10., 12.]])\n",
      "tensor([[0.5000, 1.0000, 1.5000],\n",
      "        [2.0000, 2.5000, 3.0000]])\n",
      "============================================================\n",
      "a와 텐서의 shape이 다르면 브로드캐스팅 수행\n",
      "tensor([[11., 22., 33.],\n",
      "        [14., 25., 36.]])\n"
     ]
    },
    {
     "ename": "RuntimeError",
     "evalue": "The size of tensor a (3) must match the size of tensor b (2) at non-singleton dimension 1",
     "output_type": "error",
     "traceback": [
      "\u001b[31m---------------------------------------------------------------------------\u001b[39m",
      "\u001b[31mRuntimeError\u001b[39m                              Traceback (most recent call last)",
      "\u001b[36mCell\u001b[39m\u001b[36m \u001b[39m\u001b[32mIn[68]\u001b[39m\u001b[32m, line 9\u001b[39m\n\u001b[32m      7\u001b[39m \u001b[38;5;28mprint\u001b[39m(\u001b[33m\"\u001b[39m\u001b[33ma와 텐서의 shape이 다르면 브로드캐스팅 수행\u001b[39m\u001b[33m\"\u001b[39m)\n\u001b[32m      8\u001b[39m \u001b[38;5;28mprint\u001b[39m(a + torch.tensor([\u001b[32m10\u001b[39m, \u001b[32m20\u001b[39m, \u001b[32m30\u001b[39m])) \u001b[38;5;66;03m# 브로드캐스팅 연산\u001b[39;00m\n\u001b[32m----> \u001b[39m\u001b[32m9\u001b[39m \u001b[38;5;28mprint\u001b[39m(\u001b[43ma\u001b[49m\u001b[43m \u001b[49m\u001b[43m+\u001b[49m\u001b[43m \u001b[49m\u001b[43mtorch\u001b[49m\u001b[43m.\u001b[49m\u001b[43mtensor\u001b[49m\u001b[43m(\u001b[49m\u001b[43m[\u001b[49m\u001b[32;43m10\u001b[39;49m\u001b[43m,\u001b[49m\u001b[43m \u001b[49m\u001b[32;43m20\u001b[39;49m\u001b[43m]\u001b[49m\u001b[43m)\u001b[49m) \u001b[38;5;66;03m# 브로드캐스팅 연산 불가, 마지막 축부터 검사: 1또는 숫자가 같지 않은 경우 브로드캐스팅 불가\u001b[39;00m\n\u001b[32m     12\u001b[39m \u001b[38;5;28mprint\u001b[39m(\u001b[33m'\u001b[39m\u001b[33m==\u001b[39m\u001b[33m'\u001b[39m*\u001b[32m30\u001b[39m)\n\u001b[32m     13\u001b[39m \u001b[38;5;66;03m# 논리 연산\u001b[39;00m\n",
      "\u001b[31mRuntimeError\u001b[39m: The size of tensor a (3) must match the size of tensor b (2) at non-singleton dimension 1"
     ]
    }
   ],
   "source": [
    "# broadcasting 연산\n",
    "print(a + 1)\n",
    "print(a - 1)\n",
    "print(a * 2)\n",
    "print(a / 2)\n",
    "print('=='*30)\n",
    "print(\"a와 텐서의 shape이 다르면 브로드캐스팅 수행\")\n",
    "print(a + torch.tensor([10, 20, 30])) # 브로드캐스팅 연산\n",
    "# print(a + torch.tensor([10, 20])) # 브로드캐스팅 연산 불가, 마지막 축부터 검사: 1또는 숫자가 같지 않은 경우 브로드캐스팅 불가\n",
    "# The size of tensor a (3) must match the size of tensor b (2) at non-singleton dimension 1\n",
    "\n",
    "print('=='*30)\n",
    "# 논리 연산\n",
    "print(a > 5)\n",
    "print(a < 5)\n",
    "print(a == 5)\n",
    "print(a != 5)"
   ]
  },
  {
   "cell_type": "code",
   "execution_count": null,
   "id": "f38dca1a",
   "metadata": {},
   "outputs": [
    {
     "name": "stdout",
     "output_type": "stream",
     "text": [
      "torch.Size([3]) torch.Size([3])\n",
      "tensor(32)\n",
      "tensor(32)\n",
      "tensor(32)\n",
      "tensor(32)\n"
     ]
    }
   ],
   "source": [
    "# 내적 (모든 원소간의 곱을 더하기)\n",
    "# - 1차원: torch.dot(), torch.matmul(), @\n",
    "# - 2차원: torch.matmul(), @\n",
    "# - 3차원: torch.matmul()\n",
    "m = torch.tensor([1, 2, 3])\n",
    "n = torch.tensor([4, 5, 6])\n",
    "\n",
    "print(m.shape, n.shape) # 1차원 텐서, m의 shape\n",
    "print(m.dot(n))\n",
    "print(torch.dot(m, n))\n",
    "print(m @ n)\n",
    "print(torch.matmul(m, n))\n",
    "\n",
    "# 외적 (벡터 외적)\n",
    "# - torch.cross()"
   ]
  },
  {
   "cell_type": "code",
   "execution_count": 80,
   "id": "517d9016",
   "metadata": {},
   "outputs": [
    {
     "name": "stdout",
     "output_type": "stream",
     "text": [
      "torch.Size([2, 3]) torch.Size([3, 2])\n",
      "tensor([[1., 2., 3.],\n",
      "        [4., 5., 6.]])\n",
      "tensor([[1., 2.],\n",
      "        [3., 4.],\n",
      "        [5., 6.]])\n",
      "tensor([[22., 28.],\n",
      "        [49., 64.]])\n",
      "tensor([[22., 28.],\n",
      "        [49., 64.]])\n",
      "tensor([[22., 28.],\n",
      "        [49., 64.]])\n",
      "============================================================\n",
      "torch.Size([2, 3]) torch.Size([2, 3])\n",
      "tensor([[1., 2., 3.],\n",
      "        [4., 5., 6.]])\n",
      "tensor([[ 7.,  8.,  9.],\n",
      "        [10., 11., 12.]])\n"
     ]
    },
    {
     "ename": "RuntimeError",
     "evalue": "mat1 and mat2 shapes cannot be multiplied (2x3 and 2x3)",
     "output_type": "error",
     "traceback": [
      "\u001b[31m---------------------------------------------------------------------------\u001b[39m",
      "\u001b[31mRuntimeError\u001b[39m                              Traceback (most recent call last)",
      "\u001b[36mCell\u001b[39m\u001b[36m \u001b[39m\u001b[32mIn[80]\u001b[39m\u001b[32m, line 13\u001b[39m\n\u001b[32m     11\u001b[39m \u001b[38;5;28mprint\u001b[39m(a)\n\u001b[32m     12\u001b[39m \u001b[38;5;28mprint\u001b[39m(b)\n\u001b[32m---> \u001b[39m\u001b[32m13\u001b[39m \u001b[38;5;28mprint\u001b[39m(\u001b[43ma\u001b[49m\u001b[43m.\u001b[49m\u001b[43mmatmul\u001b[49m\u001b[43m(\u001b[49m\u001b[43mb\u001b[49m\u001b[43m)\u001b[49m)\n",
      "\u001b[31mRuntimeError\u001b[39m: mat1 and mat2 shapes cannot be multiplied (2x3 and 2x3)"
     ]
    }
   ],
   "source": [
    "# 2차원 이상\n",
    "print(a.shape, c.shape) # 2차원 텐서, 3차원 텐서, a의 shape (a, b), c의 shape (c, d) 중에 b, c가 같아야 함, 결과는 (a, d) 형태의 텐서\n",
    "print(a)\n",
    "print(c)\n",
    "print(a.matmul(c))\n",
    "print(a @ c)\n",
    "print(torch.matmul(a, c))\n",
    "print(\"==\"*30)\n",
    "# 3차원 이상\n",
    "print(a.shape, b.shape) # 3차원 텐서, 3차원 텐서, a의 shape (a, b, c), b의 shape (d, e, f) 중에 b, e가 같아야 함, 결과는 (a, d, f) 형태의 텐서\n",
    "print(a)\n",
    "print(b)\n",
    "print(a.matmul(b))"
   ]
  },
  {
   "cell_type": "markdown",
   "id": "2420ec47",
   "metadata": {},
   "source": [
    "### 통계연산\n",
    "- 축을 지정해서 연산하는 sum, mean, max, min 등등"
   ]
  },
  {
   "cell_type": "code",
   "execution_count": 92,
   "id": "6ec1291b",
   "metadata": {},
   "outputs": [
    {
     "name": "stdout",
     "output_type": "stream",
     "text": [
      "torch.Size([2, 3]) 2\n",
      "tensor([[1., 2., 3.],\n",
      "        [4., 5., 6.]])\n",
      "============================================================\n",
      "tensor([5., 7., 9.])\n",
      "tensor([ 6., 15.])\n",
      "tensor(21.)\n",
      "tensor(21.)\n",
      "tensor([[5., 7., 9.]])\n",
      "tensor([5., 7., 9.])\n",
      "============================================================\n",
      "tensor([2.5000, 3.5000, 4.5000])\n",
      "tensor([2., 5.])\n",
      "tensor(3.5000)\n",
      "tensor(3.5000)\n",
      "============================================================\n",
      "torch.return_types.max(\n",
      "values=tensor([4., 5., 6.]),\n",
      "indices=tensor([1, 1, 1]))\n",
      "torch.return_types.max(\n",
      "values=tensor([3., 6.]),\n",
      "indices=tensor([2, 2]))\n",
      "tensor(6.)\n"
     ]
    }
   ],
   "source": [
    "# 합계\n",
    "print(a.shape, a.ndim)\n",
    "print(a)\n",
    "print(\"==\"*30)\n",
    "print(torch.sum(a, dim=0))    # dim=0은 첫번째 축, 즉 행을 의미\n",
    "print(torch.sum(a, dim=1))    # dim=1은 두번째 축, 즉 열을 의미\n",
    "print(torch.sum(a, dim=None)) # dim=None은 모든 축을 더함\n",
    "print(torch.sum(a))\n",
    "print(torch.sum(a, dim=0, keepdim=True)) # keepdim=True는 차원을 유지하는 옵션\n",
    "print(torch.sum(a, dim=0, keepdim=False)) # keepdim=False는 차원을 유지하지 않는 옵션\n",
    "print(\"==\"*30)\n",
    "print(torch.mean(a, dim=0))\n",
    "print(torch.mean(a, dim=1))\n",
    "print(torch.mean(a, dim=None))\n",
    "print(torch.mean(a))\n",
    "print(\"==\"*30)\n",
    "print(torch.max(a, dim=0))\n",
    "print(torch.max(a, dim=1))\n",
    "# print(torch.max(a, dim=None))\n",
    "print(torch.max(a))"
   ]
  },
  {
   "cell_type": "markdown",
   "id": "03485f8e",
   "metadata": {},
   "source": [
    "### 형변환\n",
    "- astype 대신 해당 자료형 메서드 호출"
   ]
  },
  {
   "cell_type": "code",
   "execution_count": null,
   "id": "48fc6860",
   "metadata": {},
   "outputs": [
    {
     "name": "stdout",
     "output_type": "stream",
     "text": [
      "tensor([1, 2, 3]) torch.int64\n",
      "tensor([1., 2., 3.]) torch.float32\n",
      "tensor([1., 2., 3.], dtype=torch.float64) torch.float64\n",
      "tensor([1, 2, 3])\n",
      "tensor([1, 2, 3], dtype=torch.int32) torch.int32\n",
      "tensor([1, 2, 3]) torch.int64\n"
     ]
    }
   ],
   "source": [
    "x = torch.tensor([1, 2, 3])\n",
    "print(x, x.dtype)\n",
    "\n",
    "print(x.float(), x.float().dtype)\n",
    "print(x.double(), x.double().dtype)\n",
    "print(x) # inplace 연산이 아니기 때문에 기존의 텐서는 변화 없음\n",
    "\n",
    "print(x.int(), x.int().dtype)\n",
    "print(x.long(), x.long().dtype)"
   ]
  },
  {
   "cell_type": "markdown",
   "id": "7dc15922",
   "metadata": {},
   "source": [
    "### 형태 변경"
   ]
  },
  {
   "cell_type": "code",
   "execution_count": 105,
   "id": "ee394f52",
   "metadata": {},
   "outputs": [
    {
     "name": "stdout",
     "output_type": "stream",
     "text": [
      "tensor([ 0,  1,  2,  3,  4,  5,  6,  7,  8,  9, 10, 11])\n",
      "tensor([ 0.,  1.,  2.,  3.,  4.,  5.,  6.,  7.,  8.,  9., 10., 11.])\n",
      "tensor([ 0,  1,  2,  3,  4,  5,  6,  7,  8,  9, 10, 11], dtype=torch.int32)\n",
      "tensor([ 0,  1,  2,  3,  4,  5,  6,  7,  8,  9, 10, 11])\n",
      "tensor([[ 0,  1,  2,  3],\n",
      "        [ 4,  5,  6,  7],\n",
      "        [ 8,  9, 10, 11]])\n",
      "tensor([ 0,  1,  2,  3,  4,  5,  6,  7,  8,  9, 10, 11])\n",
      "tensor([[ 0,  1,  2,  3,  4,  5],\n",
      "        [ 6,  7,  8,  9, 10, 11]])\n",
      "tensor([[ 0,  1,  2,  3,  4,  5],\n",
      "        [ 6,  7,  8,  9, 10, 11]])\n",
      "============================================================\n",
      "tensor([[ 0,  1,  2,  3,  4,  5],\n",
      "        [ 6,  7,  8,  9, 10, 11]]) \n",
      " torch.Size([2, 6])\n",
      "tensor([[[ 0,  1,  2],\n",
      "         [ 3,  4,  5]],\n",
      "\n",
      "        [[ 6,  7,  8],\n",
      "         [ 9, 10, 11]]])\n",
      "============================================================\n",
      "tensor([[ 0,  1,  2,  3,  4,  5],\n",
      "        [ 6,  7,  8,  9, 10, 11]])\n",
      "tensor([[[ 0,  1,  2],\n",
      "         [ 3,  4,  5]],\n",
      "\n",
      "        [[ 6,  7,  8],\n",
      "         [ 9, 10, 11]]])\n"
     ]
    }
   ],
   "source": [
    "t = torch.arange(12)    # start, end, step\n",
    "print(t)\n",
    "print(t.float())\n",
    "print(t.int())\n",
    "print(t.long())\n",
    "\n",
    "t = torch.arange(12).reshape(3, 4)\n",
    "print(t)\n",
    "print(t.reshape(12))\n",
    "print(t.reshape(2, 6))\n",
    "print(t.reshape(2, -1)) # -1은 자동으로 계산\n",
    "print('=='*30)\n",
    "t_ = t.reshape(2, 6)\n",
    "print(t_, '\\n', t_.size())\n",
    "print(t.reshape(2, 2, 3))\n",
    "print(\"==\"*30)\n",
    "print(t.view(2, 6))         # 원본 텐서의 데이터를 복사하여 새로운 텐서 생성\n",
    "print(t.view(2, 2, 3))      # 원본 텐서의 데이터를 복사하여 새로운 텐서 생성"
   ]
  },
  {
   "cell_type": "code",
   "execution_count": null,
   "id": "21bc9b06",
   "metadata": {},
   "outputs": [
    {
     "name": "stdout",
     "output_type": "stream",
     "text": [
      "tensor([[ 0,  1,  2,  3],\n",
      "        [ 4,  5,  6,  7],\n",
      "        [ 8,  9, 10, 11]])\n",
      "(tensor([[ 0,  4,  8],\n",
      "        [ 1,  5,  9],\n",
      "        [ 2,  6, 10],\n",
      "        [ 3,  7, 11]]), torch.Size([4, 3]))\n",
      "============================================================\n",
      "tensor([[ 0,  4,  8],\n",
      "        [ 1,  5,  9],\n",
      "        [ 2,  6, 10],\n",
      "        [ 3,  7, 11]])\n",
      "torch.Size([4, 3])\n",
      "============================================================\n",
      "tensor([[ 0,  4,  8],\n",
      "        [ 1,  5,  9],\n",
      "        [ 2,  6, 10],\n",
      "        [ 3,  7, 11]])\n",
      "torch.Size([4, 3])\n"
     ]
    }
   ],
   "source": [
    "# 전치\n",
    "t = torch.arange(12).reshape(3, 4)\n",
    "print(t)\n",
    "print((t.T, t.T.shape))\n",
    "print('=='*30)\n",
    "print(t.transpose(0, 1))        # 0번째 축과 1번째 축을 교환 = 0차원과 1차원을 교환\n",
    "print(t.transpose(0, 1).shape)\n",
    "print('=='*30)\n",
    "print(t.transpose(1, 0))        # 1번째 축과 0번째 축을 교환 = 1차원과 0차원을 교환\n",
    "print(t.transpose(1, 0).shape)"
   ]
  },
  {
   "cell_type": "code",
   "execution_count": null,
   "id": "a7ad842c",
   "metadata": {},
   "outputs": [
    {
     "name": "stdout",
     "output_type": "stream",
     "text": [
      "tensor([[ 0,  1,  2,  3],\n",
      "        [ 4,  5,  6,  7],\n",
      "        [ 8,  9, 10, 11]])\n",
      "tensor([ 0,  1,  2,  3,  4,  5,  6,  7,  8,  9, 10, 11])\n",
      "torch.Size([12])\n",
      "tensor([ 0,  1,  2,  3,  4,  5,  6,  7,  8,  9, 10, 11])\n",
      "torch.Size([12])\n",
      "============================================================\n",
      "tensor([[ 0,  1,  2,  3,  4,  5,  6,  7,  8,  9, 10, 11]])\n",
      "torch.Size([1, 12])\n",
      "tensor([[ 0],\n",
      "        [ 1],\n",
      "        [ 2],\n",
      "        [ 3],\n",
      "        [ 4],\n",
      "        [ 5],\n",
      "        [ 6],\n",
      "        [ 7],\n",
      "        [ 8],\n",
      "        [ 9],\n",
      "        [10],\n",
      "        [11]])\n",
      "torch.Size([12, 1])\n"
     ]
    }
   ],
   "source": [
    "# 평탄화\n",
    "print(t)\n",
    "print(t.flatten())\n",
    "print(t.flatten().shape)\n",
    "print(t.reshape(-1))          # 1차원으로 평탄화\n",
    "print(t.reshape(-1).shape)\n",
    "print('=='*30)\n",
    "print(t.reshape(1, -1))       # 1차원으로 평탄화\n",
    "print(t.reshape(1, -1).shape)"
   ]
  },
  {
   "cell_type": "code",
   "execution_count": 113,
   "id": "8ff5a9a4",
   "metadata": {},
   "outputs": [
    {
     "name": "stdout",
     "output_type": "stream",
     "text": [
      "tensor([[[[1, 2, 3]]]])\n",
      "torch.Size([1, 1, 1, 3])\n",
      "tensor([1, 2, 3])\n",
      "torch.Size([3])\n",
      "============================================================\n",
      "tensor([[[1, 2, 3]]])\n",
      "torch.Size([1, 1, 3])\n",
      "tensor([[[[1, 2, 3]]]])\n",
      "torch.Size([1, 1, 1, 3])\n",
      "============================================================\n",
      "tensor([[[[[1, 2, 3]]]]])\n",
      "torch.Size([1, 1, 1, 1, 3])\n",
      "tensor([[[[[1, 2, 3]]]]])\n",
      "torch.Size([1, 1, 1, 1, 3])\n",
      "tensor([[[[[1],\n",
      "           [2],\n",
      "           [3]]]]])\n",
      "torch.Size([1, 1, 1, 3, 1])\n"
     ]
    }
   ],
   "source": [
    "# 차원 축소 squeeze, unsqueeze\n",
    "t = torch.tensor([[[[1, 2, 3]]]])\n",
    "print(t)\n",
    "print(t.shape)\n",
    "print(t.squeeze())\n",
    "print(t.squeeze().shape)\n",
    "print('=='*30)\n",
    "print(t.squeeze(0))\n",
    "print(t.squeeze(0).shape)\n",
    "print(t.squeeze(-1))\n",
    "print(t.squeeze(-1).shape)\n",
    "print('=='*30)\n",
    "print(t.unsqueeze(0))\n",
    "print(t.unsqueeze(0).shape)\n",
    "print(t.unsqueeze(1))\n",
    "print(t.unsqueeze(1).shape)\n",
    "print(t.unsqueeze(-1))\n",
    "print(t.unsqueeze(-1).shape)"
   ]
  },
  {
   "cell_type": "code",
   "execution_count": 123,
   "id": "9d94b53a",
   "metadata": {},
   "outputs": [
    {
     "name": "stdout",
     "output_type": "stream",
     "text": [
      "tensor([[[1, 2],\n",
      "         [3, 4]]])\n",
      "torch.Size([1, 2, 2])\n",
      "tensor([[1, 2],\n",
      "        [3, 4]]) torch.Size([2, 2])\n",
      "tensor([[1, 2],\n",
      "        [3, 4]]) torch.Size([1, 2, 2])\n"
     ]
    }
   ],
   "source": [
    "# 차원 축소 squeeze()\n",
    "x = torch.tensor([[[1, 2], [3, 4]]])\n",
    "print(x)\n",
    "print(x.shape)\n",
    "print(x.squeeze(0), x.squeeze(0).shape)   # 개수가 1인 차원 제거 가능\n",
    "print(x.squeeze(0), x.squeeze(1).shape)  # 개수가 1인 차원 제거 불가\n",
    "# print(x.unsqueeze(0))\n",
    "# print(x.unsqueeze(0).shape)\n",
    "# print(x.unsqueeze(1))\n"
   ]
  },
  {
   "cell_type": "code",
   "execution_count": 124,
   "id": "897b593b",
   "metadata": {},
   "outputs": [
    {
     "name": "stdout",
     "output_type": "stream",
     "text": [
      "tensor([[1, 2],\n",
      "        [3, 4]])\n",
      "torch.Size([2, 2])\n",
      "============================================================\n",
      "tensor([[[1, 2],\n",
      "         [3, 4]]])\n",
      "torch.Size([1, 2, 2])\n",
      "============================================================\n",
      "tensor([[[1, 2]],\n",
      "\n",
      "        [[3, 4]]])\n",
      "torch.Size([2, 1, 2])\n",
      "============================================================\n",
      "tensor([[[1],\n",
      "         [2]],\n",
      "\n",
      "        [[3],\n",
      "         [4]]])\n",
      "torch.Size([2, 2, 1])\n",
      "============================================================\n",
      "tensor([[[1, 2]],\n",
      "\n",
      "        [[3, 4]]])\n",
      "torch.Size([2, 1, 2])\n",
      "============================================================\n",
      "tensor([[[1, 2],\n",
      "         [3, 4]]])\n",
      "torch.Size([1, 2, 2])\n"
     ]
    }
   ],
   "source": [
    "# 차원 추가 unsqueeze()\n",
    "x = torch.tensor([[1, 2], [3, 4]])\n",
    "print(x)\n",
    "print(x.shape)\n",
    "print('=='*30)\n",
    "x_ = x.unsqueeze(0)\n",
    "print(x_)\n",
    "print(x_.shape)\n",
    "print('=='*30)\n",
    "x_ = x.unsqueeze(1)\n",
    "print(x_)\n",
    "print(x_.shape)\n",
    "print('=='*30)\n",
    "x_ = x.unsqueeze(-1)\n",
    "print(x_)\n",
    "print(x_.shape)\n",
    "print('=='*30)\n",
    "x_ = x.unsqueeze(-2)\n",
    "print(x_)\n",
    "print(x_.shape)\n",
    "print('=='*30)\n",
    "x_ = x.unsqueeze(-3)\n",
    "print(x_)\n",
    "print(x_.shape)\n"
   ]
  },
  {
   "cell_type": "markdown",
   "id": "7becb6b1",
   "metadata": {},
   "source": [
    "### Indexing | Slicing"
   ]
  },
  {
   "cell_type": "code",
   "execution_count": 125,
   "id": "85dfd965",
   "metadata": {},
   "outputs": [
    {
     "data": {
      "text/plain": [
       "tensor([[[ 1,  2],\n",
       "         [ 3,  4]],\n",
       "\n",
       "        [[ 5,  6],\n",
       "         [ 7,  8]],\n",
       "\n",
       "        [[ 9, 10],\n",
       "         [11, 12]]])"
      ]
     },
     "execution_count": 125,
     "metadata": {},
     "output_type": "execute_result"
    }
   ],
   "source": [
    "x = torch.arange(1, 13).reshape(3, 2, 2)\n",
    "x"
   ]
  },
  {
   "cell_type": "code",
   "execution_count": 139,
   "id": "30bd73e4",
   "metadata": {},
   "outputs": [
    {
     "name": "stdout",
     "output_type": "stream",
     "text": [
      "tensor([[1, 2],\n",
      "        [3, 4]])\n",
      "tensor([5, 6])\n",
      "tensor(11)\n",
      "tensor([11, 12])\n",
      "tensor(10)\n",
      "tensor(10)\n",
      "tensor([[1, 2],\n",
      "        [5, 6]])\n"
     ]
    }
   ],
   "source": [
    "# 인덱싱\n",
    "# [1, 2],\n",
    "# [3, 4] 꺼내오기\n",
    "\n",
    "print(x[0])\n",
    "\n",
    "# [5, 6] 꺼내오기\n",
    "print(x[1, 0])\n",
    "\n",
    "# 11 꺼내오기\n",
    "print(x[2, 1, 0])\n",
    "\n",
    "# 11, 12 꺼내오기\n",
    "print(x[2, 1, :])\n",
    "\n",
    "# 10 꺼내오기\n",
    "print(x[2, 0, 1])\n",
    "print(x[-1, 0, -1])\n",
    "\n",
    "# 1, 2, 5, 6 꺼내오기\n",
    "print(x[[0, 1], [0, 0]])\n",
    "\n"
   ]
  },
  {
   "cell_type": "code",
   "execution_count": 142,
   "id": "e208d8d6",
   "metadata": {},
   "outputs": [
    {
     "name": "stdout",
     "output_type": "stream",
     "text": [
      "tensor([[ 1,  2],\n",
      "        [ 5,  6],\n",
      "        [ 9, 10]])\n",
      "torch.Size([3, 2])\n",
      "tensor([[[ 1,  2]],\n",
      "\n",
      "        [[ 5,  6]],\n",
      "\n",
      "        [[ 9, 10]]])\n",
      "torch.Size([3, 1, 2])\n"
     ]
    }
   ],
   "source": [
    "# slicing\n",
    "# [1, 2],\n",
    "\n",
    "x_ = x[:, 0]  # 인덱싱 사용한 1차원 제거\n",
    "print(x_)\n",
    "print(x_.shape)\n",
    "\n",
    "# [3, 4]\n",
    "x_ = x[:, :1] # 슬라이싱은 차원 유지\n",
    "print(x_)\n",
    "print(x_.shape)"
   ]
  },
  {
   "cell_type": "code",
   "execution_count": 144,
   "id": "24e4409a",
   "metadata": {},
   "outputs": [
    {
     "data": {
      "text/plain": [
       "tensor([[[ 1,  2],\n",
       "         [ 3,  4]],\n",
       "\n",
       "        [[ 5,  6],\n",
       "         [ 7,  8]],\n",
       "\n",
       "        [[ 9, 10],\n",
       "         [11, 12]]])"
      ]
     },
     "execution_count": 144,
     "metadata": {},
     "output_type": "execute_result"
    }
   ],
   "source": [
    "x"
   ]
  },
  {
   "cell_type": "code",
   "execution_count": null,
   "id": "0337afec",
   "metadata": {},
   "outputs": [
    {
     "name": "stdout",
     "output_type": "stream",
     "text": [
      "tensor([[[ 5,  6],\n",
      "         [ 7,  8]],\n",
      "\n",
      "        [[ 9, 10],\n",
      "         [11, 12]]])\n",
      "torch.Size([2, 2, 2])\n"
     ]
    }
   ],
   "source": [
    "# fancy indexing, 차원을 유지한다.\n",
    "index = [1, 2]\n",
    "x_ = x[index]\n",
    "print(x_)\n",
    "print(x_.shape)"
   ]
  },
  {
   "cell_type": "markdown",
   "id": "aba0b9e9",
   "metadata": {},
   "source": [
    "### 유용한 메서드"
   ]
  },
  {
   "cell_type": "code",
   "execution_count": 151,
   "id": "b4a133a4",
   "metadata": {},
   "outputs": [
    {
     "name": "stdout",
     "output_type": "stream",
     "text": [
      "tensor([[0., 0., 0., 0.],\n",
      "        [0., 0., 0., 0.],\n",
      "        [0., 0., 0., 0.],\n",
      "        [0., 0., 0., 0.],\n",
      "        [0., 0., 0., 0.],\n",
      "        [0., 0., 0., 0.],\n",
      "        [0., 0., 0., 0.],\n",
      "        [0., 0., 0., 0.],\n",
      "        [0., 0., 0., 0.],\n",
      "        [0., 0., 0., 0.]])\n",
      "torch.Size([4, 4])\n",
      "torch.Size([4, 4])\n",
      "torch.Size([2, 4])\n",
      "tensor([[0., 0., 0., 0.],\n",
      "        [0., 0., 0., 0.],\n",
      "        [0., 0., 0., 0.],\n",
      "        [0., 0., 0., 0.]])\n",
      "tensor([[0., 0., 0., 0.],\n",
      "        [0., 0., 0., 0.],\n",
      "        [0., 0., 0., 0.],\n",
      "        [0., 0., 0., 0.]])\n",
      "tensor([[0., 0., 0., 0.],\n",
      "        [0., 0., 0., 0.]])\n"
     ]
    }
   ],
   "source": [
    "# split\n",
    "# - 지정한 개수로 분할, 마지막 지정한 개수보다 작을 수 있다.\n",
    "x = torch.zeros(10, 4)\n",
    "\n",
    "print(x)\n",
    "# # 추후에 batch_size, 데이터 개수를 지정할 때 사용\n",
    "# x_1, x_2 = x.split(2, dim=0)\n",
    "# print(x_1.shape, x_2.shape)\n",
    "\n",
    "# x_1, x_2 = x.split([1, 3], dim=0)\n",
    "# print(x_1.shape, x_2.shape)\n",
    "\n",
    "x_splits = torch.split(x, 4)\n",
    "# print(x_splits)\n",
    "print(x_splits[0].shape)\n",
    "print(x_splits[1].shape)\n",
    "print(x_splits[2].shape)\n",
    "\n",
    "for x_ in x_splits:\n",
    "    print(x_)\n",
    "\n"
   ]
  },
  {
   "cell_type": "code",
   "execution_count": null,
   "id": "92a76fbe",
   "metadata": {},
   "outputs": [
    {
     "name": "stdout",
     "output_type": "stream",
     "text": [
      "torch.Size([2, 1, 2])\n",
      "3\n",
      "tensor([[[1, 2]],\n",
      "\n",
      "        [[3, 4]]])\n",
      "tensor([[[1, 2],\n",
      "         [1, 2],\n",
      "         [1, 2],\n",
      "         [1, 2],\n",
      "         [1, 2]],\n",
      "\n",
      "        [[3, 4],\n",
      "         [3, 4],\n",
      "         [3, 4],\n",
      "         [3, 4],\n",
      "         [3, 4]]])\n",
      "torch.Size([2, 5, 2])\n",
      "torch.Size([2, 1, 2])\n",
      "tensor([[[1, 2, 1, 2],\n",
      "         [1, 2, 1, 2],\n",
      "         [1, 2, 1, 2],\n",
      "         [1, 2, 1, 2],\n",
      "         [1, 2, 1, 2]],\n",
      "\n",
      "        [[3, 4, 3, 4],\n",
      "         [3, 4, 3, 4],\n",
      "         [3, 4, 3, 4],\n",
      "         [3, 4, 3, 4],\n",
      "         [3, 4, 3, 4]],\n",
      "\n",
      "        [[1, 2, 1, 2],\n",
      "         [1, 2, 1, 2],\n",
      "         [1, 2, 1, 2],\n",
      "         [1, 2, 1, 2],\n",
      "         [1, 2, 1, 2]],\n",
      "\n",
      "        [[3, 4, 3, 4],\n",
      "         [3, 4, 3, 4],\n",
      "         [3, 4, 3, 4],\n",
      "         [3, 4, 3, 4],\n",
      "         [3, 4, 3, 4]]])\n",
      "torch.Size([4, 5, 4])\n"
     ]
    }
   ],
   "source": [
    "# expand, repeat -> expand는 차원을 유지하면서 크기를 변경, repeat는 차원을 유지하지 않고 크기를 변경\n",
    "k = torch.tensor([[[1, 2]], [[3, 4]]])\n",
    "print(k.shape)\n",
    "print(k.ndim)\n",
    "print(k)\n",
    "\n",
    "k_exp = k.expand(2, 5, 2)\n",
    "print(k_exp)\n",
    "print(k_exp.shape)\n",
    "print(k.shape)\n",
    "\n",
    "k_rep = k.repeat(2, 5, 2)\n",
    "print(k_rep)\n",
    "print(k_rep.shape)\n"
   ]
  },
  {
   "cell_type": "code",
   "execution_count": null,
   "id": "b72f3aa2",
   "metadata": {},
   "outputs": [
    {
     "name": "stdout",
     "output_type": "stream",
     "text": [
      "tensor([[[100,   2],\n",
      "         [100,   2],\n",
      "         [100,   2],\n",
      "         [100,   2],\n",
      "         [100,   2]],\n",
      "\n",
      "        [[  3,   4],\n",
      "         [  3,   4],\n",
      "         [  3,   4],\n",
      "         [  3,   4],\n",
      "         [  3,   4]]])\n",
      "tensor([[[100,   2]],\n",
      "\n",
      "        [[  3,   4]]])\n"
     ]
    }
   ],
   "source": [
    "# 원본 배열 k의 view 형태로 k_exp 배열 생성 -> 원본 배열 k의 메모리를 공유, 참조 = 얕은 복사\n",
    "# 얕은 복사란? 주소값을 복사, 원본 배열과 복사된 배열이 같은 메모리를 참조\n",
    "# 깊은 복사란? 메모리를 새로 할당, 원본 배열과 복사된 배열이 다른 메모리를 참조\n",
    "# 원본 배열과 복사된 배열이 같은 메모리를 참조하기 때문에 원본 배열도 변경됨\n",
    "\n",
    "# - k_exp가 k를 참조. k_exp가 변경되면 원본 배열도 변경\n",
    "k_exp[0, 0, 0] = 100\n",
    "print(k_exp)\n",
    "print(k)"
   ]
  },
  {
   "cell_type": "code",
   "execution_count": null,
   "id": "ab0680c9",
   "metadata": {},
   "outputs": [
    {
     "name": "stdout",
     "output_type": "stream",
     "text": [
      "torch.Size([2, 1, 2])\n",
      "tensor([[[1, 2]],\n",
      "\n",
      "        [[3, 4]]])\n",
      "tensor([[[1, 2],\n",
      "         [1, 2],\n",
      "         [1, 2]],\n",
      "\n",
      "        [[3, 4],\n",
      "         [3, 4],\n",
      "         [3, 4]]])\n",
      "torch.Size([2, 3, 2])\n",
      "tensor([[[1, 2]],\n",
      "\n",
      "        [[3, 4]]])\n",
      "tensor([[[100,   2],\n",
      "         [  1,   2],\n",
      "         [  1,   2]],\n",
      "\n",
      "        [[  3,   4],\n",
      "         [  3,   4],\n",
      "         [  3,   4]]])\n",
      "tensor([[[1, 2]],\n",
      "\n",
      "        [[3, 4]]])\n"
     ]
    }
   ],
   "source": [
    "# repeat 깊은 복사, 원본 배열의 view를 생성하지 않음, 실제 값을 복사하는 개념\n",
    "k = torch.tensor([[[1, 2]], [[3, 4]]])\n",
    "print(k.shape)\n",
    "print(k)\n",
    "\n",
    "k_rep = k.repeat(1, 3, 1)\n",
    "print(k_rep)\n",
    "print(k_rep.shape)\n",
    "print(k)\n",
    "\n",
    "k_rep[0, 0, 0] = 100\n",
    "print(k_rep)\n",
    "print(k)"
   ]
  },
  {
   "cell_type": "code",
   "execution_count": null,
   "id": "637ce806",
   "metadata": {},
   "outputs": [
    {
     "name": "stdout",
     "output_type": "stream",
     "text": [
      "tensor([[0, 1, 2],\n",
      "        [3, 4, 5],\n",
      "        [6, 7, 8]])\n",
      "tensor([[False, False, False],\n",
      "        [False, False,  True],\n",
      "        [ True,  True,  True]])\n",
      "tensor([[0, 1, 2],\n",
      "        [3, 4, 0],\n",
      "        [0, 0, 0]])\n",
      "tensor([5, 6, 7, 8])\n"
     ]
    }
   ],
   "source": [
    "# masked_fill: mask 조건식이 true인 경우만 값 변경\n",
    "\n",
    "x = torch.arange(9).reshape(3, -1)\n",
    "print(x)\n",
    "\n",
    "mask = x > 4\n",
    "print(mask)\n",
    "\n",
    "x_ = x.masked_fill(mask, value=0)\n",
    "print(x_)\n",
    "\n",
    "print(x[mask])\n"
   ]
  },
  {
   "cell_type": "markdown",
   "id": "d0f0345e",
   "metadata": {},
   "source": [
    "---"
   ]
  },
  {
   "cell_type": "markdown",
   "id": "4b1df5bc",
   "metadata": {},
   "source": [
    "### 다차원 텐서(다차원 배열)"
   ]
  },
  {
   "cell_type": "code",
   "execution_count": null,
   "id": "58e30bcf",
   "metadata": {},
   "outputs": [
    {
     "name": "stdout",
     "output_type": "stream",
     "text": [
      "[[ 8 10 12]\n",
      " [14 16 18]] \n",
      " ============================================================\n",
      "[[2 4 6]\n",
      " [5 7 9]] \n",
      " ============================================================\n",
      "[[-6 -6 -6]\n",
      " [-6 -6 -6]] \n",
      " ============================================================\n",
      "[[ 7 16 27]\n",
      " [40 55 72]] \n",
      " ============================================================\n",
      "[[ 50  68]\n",
      " [122 167]] \n",
      " ============================================================\n"
     ]
    }
   ],
   "source": [
    "### 다차원 배열의 계산 복습\n",
    "A = np.array([[1, 2, 3], [4, 5, 6]])\n",
    "B = np.array([[7, 8, 9], [10, 11, 12]])\n",
    "\n",
    "add_result = A + B\n",
    "sub_result = A - B\n",
    "mul_result = A * B\n",
    "\n",
    "vec = np.array([1, 2, 3])\n",
    "add_result2 = A + vec      # 브로드캐스팅 연산\n",
    "\n",
    "print(add_result, '\\n', '=='*30)\n",
    "print(add_result2, '\\n', '=='*30)\n",
    "print(sub_result, '\\n', '=='*30)\n",
    "print(mul_result, '\\n', '=='*30)\n",
    "\n",
    "\n",
    "dot_result = A.dot(B.T)    # .T는 전치 행렬 (2, 3) @ (2, 3) 내적 연산 불가, (3, 2)로 전치 후 내적 연산, 결과는 (2, 2)\n",
    "print(dot_result, '\\n', '=='*30)"
   ]
  },
  {
   "cell_type": "markdown",
   "id": "3c79469f",
   "metadata": {},
   "source": [
    "### 다층 퍼셉트론"
   ]
  },
  {
   "cell_type": "code",
   "execution_count": null,
   "id": "ab55e0c7",
   "metadata": {},
   "outputs": [
    {
     "name": "stdout",
     "output_type": "stream",
     "text": [
      "[[ 0.30452153 -1.19008795 -0.17102781  0.52298912 -0.17535657 -1.05494281\n",
      "   1.10400412 -0.37770303  0.17245078 -1.53432844]\n",
      " [-0.59995468 -0.24449187 -0.7039346   1.54606431 -0.26293574 -0.51295431\n",
      "  -0.97276026 -0.96166833 -0.39344613  1.44422282]\n",
      " [ 0.01342455  0.6938113   0.41767127 -0.16407874  1.14226973  1.13879646\n",
      "  -0.74236513 -0.52495007 -1.19776075 -0.5643107 ]\n",
      " [ 1.34536623  0.57978517  1.13521684  1.88647218 -0.00914756  1.07842762\n",
      "  -1.23372175 -0.42767574 -0.62788005 -0.89559583]\n",
      " [ 0.70993999  1.25924253  0.30301619  0.37612503  0.70988947 -1.07724073\n",
      "  -0.68851942  0.88850325  0.44454852 -0.67495485]\n",
      " [-0.63501099 -0.03786706  0.48521872  1.54316088  0.69530799  0.01140533\n",
      "  -1.67198811 -0.37346344  0.02251997  0.46459058]] (6, 10)\n",
      "[[ 0.49901439 -2.82235247 -0.08519444]\n",
      " [-1.00752806  0.61425088 -1.97103472]\n",
      " [ 0.02056622  1.76711257  1.03052905]\n",
      " [ 0.50091299 -1.21277534 -0.6130095 ]\n",
      " [ 0.2015837  -1.02865525 -0.07008895]\n",
      " [-1.63346704 -1.53490292 -0.85903935]\n",
      " [ 0.91049866  0.08572272  0.09048138]\n",
      " [ 0.15730025  1.06445231  1.71155526]\n",
      " [ 0.26773799  0.34157275  0.56261545]\n",
      " [ 0.98514794  0.15839683  0.30506909]] (10, 3)\n",
      "[-0.04784014 -0.20067395 -0.72487113] (3,)\n",
      "[[ 2.72990004 -1.41956794  1.09895101]\n",
      " [ 1.72442816 -1.73139266 -2.92069301]\n",
      " [-4.07881103 -2.91919886 -4.432552  ]\n",
      " [-2.99672452 -6.48664579 -4.36468077]\n",
      " [ 0.10204305  0.50333549 -0.80740306]\n",
      " [-0.5394356  -0.63809815 -1.73669058]] (6, 3)\n",
      "[[ 0.99152723 -0.88950876  0.80012191]\n",
      " [ 0.93839403 -0.93922029 -0.9942072 ]\n",
      " [-0.99942708 -0.99418991 -0.99971758]\n",
      " [-0.99502233 -0.99999536 -0.99967652]\n",
      " [ 0.10169034  0.4647363  -0.66815517]\n",
      " [-0.49256061 -0.56360321 -0.93984164]] (6, 3)\n",
      "[[-0.2388749   1.16993319]\n",
      " [ 1.97955981  1.38290817]\n",
      " [-0.91714635 -0.68465701]] (3, 2)\n"
     ]
    }
   ],
   "source": [
    "X = np.random.randn(6, 10)\n",
    "print(X, X.shape)\n",
    "\n",
    "W1 = np.random.randn(10, 3)\n",
    "print(W1, W1.shape)\n",
    "\n",
    "B1 = np.random.randn(3)\n",
    "print(B1, B1.shape)\n",
    "\n",
    "A1 = X @ W1 + B1\n",
    "print(A1, A1.shape)\n",
    "\n",
    "Z1 = np.tanh(A1)\n",
    "print(Z1, Z1.shape)\n",
    "\n",
    "W2 = np.random.randn(3, 2)\n",
    "print(W2, W2.shape)"
   ]
  },
  {
   "cell_type": "code",
   "execution_count": null,
   "id": "078306b6",
   "metadata": {},
   "outputs": [],
   "source": [
    "# 다층 퍼셉트론 구조\n",
    "선형 계산 : \n",
    "- 가중치에 입력값을 곱해서 더하고 + 편향까지 더해준 결과\n",
    "- 활성화 함수 : 선형 계산 결과에 적용하는 함수\n",
    "- 활성화 함수는 비선형 함수를 사용\n"
   ]
  },
  {
   "cell_type": "code",
   "execution_count": 187,
   "id": "8f8ed0d0",
   "metadata": {},
   "outputs": [
    {
     "name": "stdout",
     "output_type": "stream",
     "text": [
      "[[1.03544350e-01 9.23540152e-02 2.05405888e-01 5.98695747e-01]\n",
      " [6.50074588e-01 6.11335071e-04 1.73993512e-02 3.31914726e-01]\n",
      " [9.75507760e-01 7.78778190e-04 1.68555528e-02 6.85790881e-03]\n",
      " [2.75646088e-03 1.32499925e-01 8.30424786e-01 3.43188288e-02]\n",
      " [9.72881633e-01 4.77678262e-04 9.53582671e-03 1.71048616e-02]\n",
      " [2.09826766e-01 1.24537357e-02 7.75292529e-01 2.42696908e-03]]\n"
     ]
    }
   ],
   "source": [
    "from unittest import result\n",
    "\n",
    "\n",
    "X = np.random.randn(6, 10)\n",
    "\n",
    "# 은닉층: 10개의 입력 -> 8개의 뉴런 출력\n",
    "w1 = np.random.randn(10, 8)\n",
    "b1 = np.random.randn(1, 8)\n",
    "\n",
    "# 출력층: 8개의 뉴런 -> 4개의 뉴런 출력\n",
    "w2 = np.random.randn(8, 4)\n",
    "b2 = np.random.randn(1, 4)\n",
    "\n",
    "# 은닉층 계산(선형 계산 + tanh 활성화 함수)\n",
    "z1 = np.dot(X, w1) + b1\n",
    "result1 = np.tanh(z1)\n",
    "\n",
    "\n",
    "# 출력층 계산(선형 계산 + softmax 활성화 함수)\n",
    "z2 = np.dot(result1, w2) + b2\n",
    "exp_z = np.exp(z2 - np.max(z2, axis=1, keepdims=True))\n",
    "result2 = exp_z / np.sum(exp_z, axis=1, keepdims=True)\n",
    "\n",
    "\n",
    "print(result2)\n",
    "\n",
    "\n",
    "\n",
    "# A1 = X @ w1 + b1\n",
    "# Z1 = np.tanh(A1)\n",
    "\n",
    "# A2 = Z1 @ w2 + b2\n",
    "# Z2 = np.exp(A2) / np.sum(np.exp(A2), axis=1, keepdims=True)"
   ]
  },
  {
   "cell_type": "markdown",
   "id": "638e9945",
   "metadata": {},
   "source": [
    "### 이미지 데이터 예시"
   ]
  },
  {
   "cell_type": "code",
   "execution_count": 212,
   "id": "3d39fc80",
   "metadata": {},
   "outputs": [
    {
     "name": "stderr",
     "output_type": "stream",
     "text": [
      "Clipping input data to the valid range for imshow with RGB data ([0..1] for floats or [0..255] for integers). Got range [-3.617327069030493..3.73426608739666].\n"
     ]
    },
    {
     "name": "stdout",
     "output_type": "stream",
     "text": [
      "[[[[ 6.58016131e-01 -8.06667288e-02 -4.34889275e-01 ...  7.24527930e-01\n",
      "    -1.30250675e+00 -1.43244711e-01]\n",
      "   [-1.13637438e+00  1.29870350e+00  7.93820603e-01 ...  6.12793097e-01\n",
      "    -2.43817912e+00 -8.75267758e-01]\n",
      "   [ 7.28872848e-01 -9.60314551e-02  1.06942469e-01 ...  2.67725080e-01\n",
      "    -1.45354516e+00  9.55638873e-01]\n",
      "   ...\n",
      "   [ 5.64717677e-01  1.24357381e+00 -1.15059443e+00 ...  1.10295366e+00\n",
      "    -4.57780940e-01 -4.27718238e-01]\n",
      "   [-1.68682238e-01 -1.04257045e+00  1.75098277e-01 ...  1.15957961e+00\n",
      "     4.53971830e-02 -1.06646549e-02]\n",
      "   [ 5.57873362e-01 -1.18552591e-01  8.87490790e-01 ...  8.95609814e-01\n",
      "     1.20362297e+00  1.34613066e+00]]\n",
      "\n",
      "  [[-1.23615533e+00  4.40922613e-01 -1.34617511e-01 ...  7.21240845e-01\n",
      "    -1.72259002e-01  1.99845009e+00]\n",
      "   [-1.25073069e+00  1.73337864e+00 -9.53638864e-01 ...  4.47429522e-01\n",
      "     5.16421972e-01  1.05054560e-01]\n",
      "   [ 3.72663165e-01  5.38653019e-01  1.54229183e+00 ...  1.16805316e+00\n",
      "     5.89421381e-01 -1.87321071e+00]\n",
      "   ...\n",
      "   [-9.61775843e-01 -3.04612682e-01 -5.66942539e-01 ...  3.72970558e-02\n",
      "    -1.19562543e+00  4.73993310e-01]\n",
      "   [ 1.93637120e+00  3.09653726e+00  2.23134822e-01 ... -2.22004496e+00\n",
      "     1.80553193e+00 -1.75961149e-01]\n",
      "   [-2.13923788e-01  2.36387475e-01 -2.98684619e+00 ... -1.72678455e+00\n",
      "    -4.73048878e-01 -5.17246111e-01]]\n",
      "\n",
      "  [[-1.28520372e+00 -9.47672890e-02  2.15157505e-01 ... -1.44863564e+00\n",
      "    -1.04044752e+00 -2.43786008e-01]\n",
      "   [-7.81376392e-02  9.78763511e-01  1.37471397e+00 ... -6.08252658e-01\n",
      "     7.82679817e-01  2.49101743e-01]\n",
      "   [-1.54932914e+00  3.98906740e-01  1.30270490e-01 ...  2.72925869e-01\n",
      "    -1.80767661e+00  1.11731654e+00]\n",
      "   ...\n",
      "   [-1.94162282e+00  2.19553445e+00 -6.66541092e-01 ... -9.36463674e-01\n",
      "    -4.39138508e-01  2.39670697e-01]\n",
      "   [ 5.31187284e-01 -1.14629366e+00 -7.86595685e-01 ... -4.95672115e-01\n",
      "    -1.79879517e+00 -1.41322551e-01]\n",
      "   [ 2.42809517e-01 -4.92139526e-01  6.00768093e-01 ... -1.03725398e-01\n",
      "    -5.40128599e-01 -9.71453011e-01]]]\n",
      "\n",
      "\n",
      " [[[ 2.76553752e-01 -3.33437689e-01 -5.12315032e-01 ... -4.39146303e-01\n",
      "    -1.37773173e+00  2.56853457e-01]\n",
      "   [ 3.00816301e-01  9.74525257e-01  2.14695115e+00 ...  2.64384037e-01\n",
      "     5.99299820e-01  5.36344342e-01]\n",
      "   [-4.17726203e-01  2.50635924e+00 -4.32022150e-01 ...  6.42407051e-01\n",
      "     7.37737330e-02 -9.27950506e-01]\n",
      "   ...\n",
      "   [-9.70888603e-02  1.25710236e-01  3.74720816e-01 ... -7.71019037e-01\n",
      "     1.33525231e-01  2.93565855e-01]\n",
      "   [ 2.51315348e+00  2.55414639e-01 -8.37071617e-01 ... -6.09443092e-01\n",
      "     1.04337133e+00 -1.21973919e+00]\n",
      "   [-2.18844690e-01  6.95103449e-01  1.12037831e+00 ... -1.13840713e+00\n",
      "    -1.05413022e+00  5.02619157e-01]]\n",
      "\n",
      "  [[ 1.49472889e+00 -4.47749269e-01 -1.33001938e+00 ...  7.00578672e-01\n",
      "    -1.14808750e+00 -1.27752627e+00]\n",
      "   [ 1.61636054e-01 -1.36354579e+00 -5.04864907e-01 ... -1.03818483e-01\n",
      "    -1.31838581e+00 -6.24918697e-01]\n",
      "   [-9.67869342e-01 -7.77790236e-01 -1.63742545e+00 ...  6.14953735e-01\n",
      "    -2.58726627e-01 -2.14244698e+00]\n",
      "   ...\n",
      "   [ 8.37345016e-01 -1.20948709e+00 -7.61197986e-01 ... -8.35264184e-01\n",
      "    -2.79270487e-01  6.09605219e-01]\n",
      "   [-1.38164086e+00 -1.31785287e+00  8.10437378e-01 ... -3.60391779e-01\n",
      "    -1.18723780e+00  1.68763906e+00]\n",
      "   [ 6.42446091e-02  1.84155432e-01 -6.73394761e-02 ... -2.27289337e-01\n",
      "    -1.33455073e+00 -1.06277105e+00]]\n",
      "\n",
      "  [[ 1.52485176e+00  1.01337304e+00 -6.83049627e-01 ...  7.01825934e-01\n",
      "     5.51593069e-01 -1.45824965e+00]\n",
      "   [-7.62674698e-01  6.77863408e-02 -1.68494363e+00 ... -8.26716990e-02\n",
      "     5.43252441e-01 -1.43107087e+00]\n",
      "   [-1.76226307e+00 -1.60553351e-02 -6.32366250e-01 ... -1.14199090e+00\n",
      "     2.97907950e-01 -1.72227476e-01]\n",
      "   ...\n",
      "   [-1.19538057e+00 -1.13912217e+00  2.11254197e+00 ...  1.66318950e-01\n",
      "    -5.51568004e-01 -1.78978588e-02]\n",
      "   [-4.08765232e-01  5.59225203e-01 -2.46678470e-01 ... -1.54878977e+00\n",
      "     4.18559621e-01 -3.81393256e-01]\n",
      "   [ 9.91916121e-01  3.92583676e-01 -1.16462446e+00 ... -8.63819977e-01\n",
      "     4.48246456e-01  8.94260537e-02]]]\n",
      "\n",
      "\n",
      " [[[ 4.98357243e-01  1.80411523e+00 -5.10905742e-01 ... -4.28258837e-02\n",
      "     3.01011604e-01  1.70926819e-01]\n",
      "   [ 4.30269463e-01  1.85761981e+00 -6.54714646e-01 ... -9.87601701e-01\n",
      "    -8.64960165e-01  1.88393652e+00]\n",
      "   [ 1.56386507e-01  5.56645016e-01 -3.76400073e-01 ... -6.48262007e-01\n",
      "     7.19970498e-01  8.82015888e-01]\n",
      "   ...\n",
      "   [-9.65013876e-01  3.73793853e-01  3.00914275e+00 ... -6.36637513e-01\n",
      "     1.30615032e+00  6.06769607e-01]\n",
      "   [-1.53611378e+00 -5.84695184e-01  4.93023781e-02 ...  1.12689336e+00\n",
      "    -1.25220675e+00 -1.07095574e+00]\n",
      "   [-1.27163304e+00  8.29596220e-01  5.07965744e-01 ... -1.76961608e+00\n",
      "     2.56485610e+00  9.32700758e-01]]\n",
      "\n",
      "  [[ 4.49629911e-01 -8.36882877e-01 -2.75353353e-01 ...  7.22482561e-02\n",
      "     1.88307999e+00 -2.29523899e-01]\n",
      "   [ 9.80834087e-01  1.32596405e+00  1.54311836e+00 ... -1.24325167e+00\n",
      "    -9.50253552e-01  7.01005415e-01]\n",
      "   [-8.65257962e-01  3.62514706e-01 -3.45458572e-01 ...  1.37286018e+00\n",
      "     7.98544658e-01  2.50336993e-01]\n",
      "   ...\n",
      "   [ 4.01799722e-01  7.63231470e-01  4.28849442e-01 ...  1.47407644e+00\n",
      "     1.56663175e-01 -8.38639912e-01]\n",
      "   [ 1.38741135e+00 -1.51511067e-01  5.50243021e-01 ... -4.16133625e-01\n",
      "    -1.03312039e+00 -1.83397179e+00]\n",
      "   [-8.96191305e-01 -1.21223451e+00 -1.44982481e+00 ...  1.15098010e+00\n",
      "     3.07480243e-01  5.10029489e-01]]\n",
      "\n",
      "  [[ 3.83555863e-01  1.65976678e+00 -3.08656716e-03 ... -1.92841335e-02\n",
      "    -1.11250799e+00  1.28632329e+00]\n",
      "   [-1.96249146e+00 -3.93160049e-01  2.71863947e-01 ...  1.02688723e+00\n",
      "    -4.69137319e-01  1.05200896e+00]\n",
      "   [ 1.98811313e+00 -1.09117946e-01 -3.59211237e-01 ... -7.24242678e-01\n",
      "    -4.92009522e-01 -1.85487613e+00]\n",
      "   ...\n",
      "   [-1.29077398e+00  1.74752362e+00  6.86241822e-01 ... -1.92528765e-01\n",
      "     1.49614706e-01 -7.28534796e-01]\n",
      "   [-9.55209327e-01 -6.55660899e-01  1.97744243e+00 ... -1.78119038e-01\n",
      "    -9.50128841e-01  5.48837289e-01]\n",
      "   [ 1.37950462e+00 -3.39623523e-01  1.09488034e+00 ...  4.30891097e-02\n",
      "    -1.22081327e+00  2.15399162e-01]]]\n",
      "\n",
      "\n",
      " [[[-7.32886273e-01  9.50315762e-02 -1.16707545e+00 ... -1.40748779e-01\n",
      "     2.31627956e-01 -3.64480799e-02]\n",
      "   [ 2.24373331e+00  1.83963414e+00  1.54036473e+00 ... -3.19880495e-01\n",
      "     2.13090445e+00  8.89924150e-01]\n",
      "   [ 2.32635987e-01  9.64450610e-01  2.06758258e-01 ... -1.26784659e-01\n",
      "     1.87798815e+00 -1.07597044e+00]\n",
      "   ...\n",
      "   [-4.14538437e-01  8.84533458e-01  4.13674034e-01 ... -4.24099298e-01\n",
      "    -6.96771757e-01  4.88272038e-01]\n",
      "   [ 1.27678063e+00  8.30453667e-01  1.85972630e+00 ... -1.60301844e-01\n",
      "    -8.61432024e-01 -2.05715692e+00]\n",
      "   [-1.14269259e+00  2.58109297e-01 -1.22520475e-02 ...  2.16902982e+00\n",
      "    -7.88982752e-01  3.57505150e-01]]\n",
      "\n",
      "  [[ 1.38391818e-01 -1.14519404e+00  4.71735098e-01 ... -2.74104129e-01\n",
      "     1.11575768e+00  1.09289685e+00]\n",
      "   [ 5.19943279e-01 -3.61125239e-01 -2.34501273e+00 ...  1.99464118e+00\n",
      "     1.99681694e-01 -1.31427868e-01]\n",
      "   [-5.65517541e-01 -7.95482022e-01 -1.75832218e-01 ...  6.54088076e-01\n",
      "     5.93195980e-01  1.23127426e+00]\n",
      "   ...\n",
      "   [ 1.92407103e+00  5.48422153e-01  5.76635565e-01 ...  1.86650820e+00\n",
      "     4.95782039e-01 -5.17716661e-01]\n",
      "   [ 9.18588410e-01  1.66710495e-01  1.26041817e+00 ... -6.85202537e-01\n",
      "    -5.15302187e-01  7.31775961e-01]\n",
      "   [ 1.29891591e+00  3.03523540e-01 -3.23172291e-01 ... -1.04511305e+00\n",
      "     5.97667521e-02  1.53373863e+00]]\n",
      "\n",
      "  [[-1.29189295e-01  6.98024922e-01  1.96851665e-01 ...  6.18549680e-01\n",
      "    -1.33682369e+00 -1.62451047e+00]\n",
      "   [ 1.49402943e+00  5.13501254e-01  7.48457008e-01 ...  2.23070576e-01\n",
      "    -2.04385712e+00 -1.99267466e+00]\n",
      "   [ 1.09415657e+00  1.77850589e-01 -1.03680715e+00 ... -1.45557610e+00\n",
      "    -1.29801746e+00  6.31038941e-01]\n",
      "   ...\n",
      "   [ 2.75509152e-01 -2.57405746e+00 -1.10131042e+00 ...  1.00155504e+00\n",
      "    -4.72695572e-01  1.64722992e-01]\n",
      "   [-1.38839563e+00  5.98354645e-01 -1.27010022e+00 ...  3.29609748e-01\n",
      "     1.15465765e+00 -7.21614769e-01]\n",
      "   [ 1.34544710e+00 -1.04535382e+00 -6.65089806e-01 ... -1.28339238e-01\n",
      "    -5.99714001e-01 -8.14279268e-02]]]\n",
      "\n",
      "\n",
      " [[[ 3.66304050e-01  8.45934802e-01 -1.20272947e+00 ...  3.15431826e-01\n",
      "     5.77563866e-01 -1.14924016e+00]\n",
      "   [ 7.99472802e-01 -1.37089030e+00  1.58134576e+00 ... -1.76577990e+00\n",
      "    -1.21124294e+00 -5.99449922e-01]\n",
      "   [-2.70340546e-02 -6.37960646e-01  2.65198516e-01 ...  4.09931603e-01\n",
      "    -1.39918275e-01  6.68421062e-01]\n",
      "   ...\n",
      "   [ 6.78771645e-01  1.14452617e+00 -9.89157037e-01 ...  2.80035983e-01\n",
      "    -2.80021431e-02 -5.83143102e-01]\n",
      "   [ 2.54501721e-01 -1.66312591e+00  1.61771567e+00 ... -1.74855902e-01\n",
      "     2.60710552e-01 -3.49112165e-01]\n",
      "   [ 2.70962576e-01 -1.95319246e-01  1.96727696e+00 ... -4.31027599e-01\n",
      "    -9.26833402e-01 -1.90743891e-01]]\n",
      "\n",
      "  [[ 8.91096602e-01  1.11048355e+00  1.78034817e-01 ...  6.70460120e-01\n",
      "    -2.04285334e-01 -1.15420481e-02]\n",
      "   [-9.32853627e-02 -5.36933222e-01 -2.47338145e-02 ...  7.96743890e-01\n",
      "     1.00432657e+00 -1.84668787e+00]\n",
      "   [ 7.57730147e-01 -1.37477926e+00  8.57174217e-01 ... -1.60142410e+00\n",
      "    -2.05003464e-01  1.78469455e+00]\n",
      "   ...\n",
      "   [-1.51926070e-01 -1.08598460e+00 -8.13869430e-02 ...  1.73101955e+00\n",
      "    -6.01212782e-01 -6.33867505e-01]\n",
      "   [ 9.17435684e-01  5.98433109e-01 -1.55307899e+00 ... -1.23649135e+00\n",
      "    -1.88253617e+00 -1.44418754e+00]\n",
      "   [ 2.83370094e+00  1.10661661e+00 -5.28818415e-01 ... -3.86578458e-01\n",
      "     1.31222319e+00  1.29924340e+00]]\n",
      "\n",
      "  [[-6.32532415e-01 -8.70253933e-01 -4.17072962e-01 ...  3.51648853e-01\n",
      "     9.76663106e-01  7.29654814e-01]\n",
      "   [-7.46726474e-03 -1.07816781e+00 -1.64920826e+00 ... -2.15789484e-01\n",
      "     3.10274778e-01  6.04921182e-01]\n",
      "   [ 8.17291328e-01  5.36183715e-01 -1.42449552e+00 ... -2.71301783e-01\n",
      "    -6.56982969e-01  2.81334424e-01]\n",
      "   ...\n",
      "   [ 2.49372856e-01 -2.23753435e-01  1.57927662e+00 ...  1.11172562e+00\n",
      "     1.25570261e+00  4.08468926e-01]\n",
      "   [ 7.15511501e-01  7.33465470e-01  1.89117345e+00 ...  4.90248110e-01\n",
      "    -1.81136205e+00  5.00161820e-01]\n",
      "   [ 1.34353057e+00 -1.95528899e-03 -2.95282963e+00 ... -1.53948689e-01\n",
      "     1.45457363e+00 -5.08162096e-01]]]] (5, 3, 32, 32)\n"
     ]
    },
    {
     "data": {
      "image/png": "[encoded data removed]",
      "text/plain": [
       "<Figure size 640x480 with 1 Axes>"
      ]
     },
     "metadata": {},
     "output_type": "display_data"
    },
    {
     "data": {
      "image/png": "[encoded data removed]",
      "text/plain": [
       "<Figure size 640x480 with 1 Axes>"
      ]
     },
     "metadata": {},
     "output_type": "display_data"
    },
    {
     "data": {
      "image/png": "[encoded data removed]",
      "text/plain": [
       "<Figure size 640x480 with 1 Axes>"
      ]
     },
     "metadata": {},
     "output_type": "display_data"
    }
   ],
   "source": [
    "import matplotlib.pyplot as plt\n",
    "\n",
    "# 이미지 생성 (5개의 이미지, 3개의 채널, 32x32 픽셀, 이미지는 4차원)\n",
    "batch_size = 5\n",
    "channels = 3\n",
    "height = 32\n",
    "width = 32\n",
    "\n",
    "images = np.random.randn(batch_size, channels, height, width)\n",
    "print(images, images.shape)\n",
    "\n",
    "bright_images = np.clip(images + 0.75, 0, 1)\n",
    "\n",
    "gray_images = np.mean(images, axis=1, keepdims=True)\n",
    "\n",
    "# 이미지 데이터 시각화\n",
    "# plt.figure(figsize=(10, 10))\n",
    "\n",
    "# plt.subplot(1, 3, 1)\n",
    "plt.imshow(images[0].transpose(1, 2, 0))\n",
    "plt.show()\n",
    "\n",
    "plt.imshow(bright_images[0].transpose(1, 2, 0))\n",
    "plt.show()\n",
    "\n",
    "plt.imshow(gray_images[0].transpose(1, 2, 0))\n",
    "plt.show()\n",
    "\n"
   ]
  },
  {
   "cell_type": "code",
   "execution_count": 215,
   "id": "1aa797b9",
   "metadata": {},
   "outputs": [
    {
     "name": "stderr",
     "output_type": "stream",
     "text": [
      "Clipping input data to the valid range for imshow with RGB data ([0..1] for floats or [0..255] for integers). Got range [-4.153543241940947..4.029100968143812].\n"
     ]
    },
    {
     "data": {
      "image/png": "[encoded data removed]",
      "text/plain": [
       "<Figure size 640x480 with 3 Axes>"
      ]
     },
     "metadata": {},
     "output_type": "display_data"
    }
   ],
   "source": [
    "import matplotlib.pyplot as plt\n",
    "\n",
    "# 이미지 생성 (5개의 이미지, 3개의 채널, 32x32 픽셀, 이미지는 4차원)\n",
    "batch_size = 5\n",
    "channels = 3\n",
    "height = 32\n",
    "width = 32\n",
    "\n",
    "images = np.random.randn(batch_size, channels, height, width)\n",
    "# print(images, images.shape)\n",
    "\n",
    "bright_images = np.clip(images + 0.75, 0, 1)\n",
    "gray_images = np.mean(images, axis=1)     \n",
    "                        \n",
    "# PyTorch 프레임워크에서는 이미지 데이터를 (채널 0, 높이 1, 너비 2) 순서로 저장\n",
    "# matplotlib는 (높이 1, 너비 1, 채널 0) 순서로 저장\n",
    "# matplotlib에서는 이미지 데이터를 표시하기 위해서는 (높이, 너비, 채널) 순서로 변환해야 함\n",
    "# matplotlib.pyplot.imshow() 함수는 이미지 데이터를 (높이, 너비, 채널) 순서로 표시\n",
    "images_for_display = images[0].transpose(1, 2, 0)    # (3, 32, 32) -> (32, 32, 3), transpose(1, 2, 0)은 높이와 너비를 교환\n",
    "bright_images_for_display = bright_images[0].transpose(1, 2, 0)\n",
    "# gray_images_for_display = gray_images[0] → 채널이 1개이므로 변경 불필요\n",
    "# transpose는 축의 순서를 변경하는 함수!\n",
    "\n",
    "plt.subplot(1, 3, 1)\n",
    "plt.imshow(images_for_display)\n",
    "# plt.imshow(images[0]) Invalid shape (3, 32, 32) for image data → 높이, 너비, 채널 순서로 저장해야함.\n",
    "plt.axis('off')\n",
    "\n",
    "plt.subplot(1, 3, 2)\n",
    "plt.imshow(bright_images_for_display)\n",
    "plt.axis('off')\n",
    "\n",
    "plt.subplot(1, 3, 3)\n",
    "plt.imshow(gray_images[0], cmap='gray')\n",
    "plt.axis('off')\n",
    "\n",
    "plt.show()"
   ]
  },
  {
   "cell_type": "code",
   "execution_count": null,
   "id": "5ae4583b",
   "metadata": {},
   "outputs": [],
   "source": []
  }
 ],
 "metadata": {
  "kernelspec": {
   "display_name": "ml_env",
   "language": "python",
   "name": "python3"
  },
  "language_info": {
   "codemirror_mode": {
    "name": "ipython",
    "version": 3
   },
   "file_extension": ".py",
   "mimetype": "text/x-python",
   "name": "python",
   "nbconvert_exporter": "python",
   "pygments_lexer": "ipython3",
   "version": "3.12.11"
  }
 },
 "nbformat": 4,
 "nbformat_minor": 5
}
