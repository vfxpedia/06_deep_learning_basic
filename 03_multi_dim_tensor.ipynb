{
 "cells": [
  {
   "cell_type": "markdown",
   "id": "18934ff3",
   "metadata": {},
   "source": [
    "# Pytorch Tecnsor"
   ]
  },
  {
   "cell_type": "markdown",
   "id": "8ee943d6",
   "metadata": {},
   "source": [
    "### Tensor 생성"
   ]
  },
  {
   "cell_type": "code",
   "execution_count": null,
   "id": "5796680d",
   "metadata": {},
   "outputs": [],
   "source": [
    "# !pip3 install torch torchvision"
   ]
  },
  {
   "cell_type": "code",
   "execution_count": null,
   "id": "88866ec7",
   "metadata": {},
   "outputs": [
    {
     "name": "stdout",
     "output_type": "stream",
     "text": [
      "tensor([1., 2., 3.])\n",
      "torch.float32\n",
      "torch.Size([3])\n",
      "torch.Size([3])\n",
      "t1의 차원 수:  1\n",
      "cpu\n",
      "False\n",
      "--------------------------------\n",
      "tensor([[1, 2, 3],\n",
      "        [4, 5, 6]])\n",
      "torch.int64\n",
      "torch.Size([2, 3])\n",
      "torch.Size([2, 3])\n",
      "t2의 차원 수:  2\n",
      "cpu\n",
      "False\n",
      "--------------------------------\n",
      "tensor([[[ 1,  2,  3],\n",
      "         [ 4,  5,  6]],\n",
      "\n",
      "        [[ 7,  8,  9],\n",
      "         [10, 11, 12]]])\n",
      "torch.int64\n",
      "torch.Size([2, 2, 3])\n",
      "torch.Size([2, 2, 3])\n",
      "t3의 차원 수:  3\n",
      "cpu\n",
      "False\n",
      "--------------------------------\n"
     ]
    }
   ],
   "source": [
    "import torch\n",
    "\n",
    "t1 = torch.tensor([1, 2, 3], dtype=torch.float)\n",
    "print(t1)\n",
    "print(t1.dtype)\n",
    "print(t1.shape)                             # shape은 기본적으로 .size()와 같다.\n",
    "print(t1.size())                            # size() 차원과 행, 열의 개수\n",
    "print('t1의 차원 수: ', t1.dim())            # 텐서의 차원 수\n",
    "print(t1.device)                            # 텐서가 저장된 장치 확인\n",
    "print(t1.requires_grad)                     # 텐서가 필요한 연산을 기록할지 여부\n",
    "print('--------------------------------')\n",
    "\n",
    "t2 = torch.tensor([[1, 2, 3], [4, 5, 6]])\n",
    "print(t2)\n",
    "print(t2.dtype)\n",
    "print(t2.shape)\n",
    "print(t2.size())\n",
    "print('t2의 차원 수: ', t2.dim())\n",
    "print(t2.device)\n",
    "print(t2.requires_grad)\n",
    "print('--------------------------------')\n",
    "t3 = torch.tensor([[[1, 2, 3], [4, 5, 6]], [[7, 8, 9], [10, 11, 12]]])\n",
    "print(t3)\n",
    "print(t3.dtype)\n",
    "print(t3.shape)\n",
    "print(t3.size())\n",
    "print('t3의 차원 수: ', t3.dim())\n",
    "print(t3.device)\n",
    "print(t3.requires_grad)\n",
    "print('--------------------------------')"
   ]
  },
  {
   "cell_type": "code",
   "execution_count": 22,
   "id": "9512837c",
   "metadata": {},
   "outputs": [
    {
     "name": "stdout",
     "output_type": "stream",
     "text": [
      "tensor([[1., 1., 1.],\n",
      "        [1., 1., 1.]]) \n",
      "\n",
      "tensor([[0., 0., 0.],\n",
      "        [0., 0., 0.]]) \n",
      "\n",
      "tensor([[ 0.2255,  0.3976, -1.7874],\n",
      "        [-1.0047, -0.8983, -0.1386]]) \n",
      "\n"
     ]
    }
   ],
   "source": [
    "# 0 또는 1 tensor 생성\n",
    "print(torch.ones(2, 3), '\\n')    # 2행 3열의 1로 채워진 텐서, 자료형 float32\n",
    "print(torch.zeros(2, 3), '\\n')   # 2행 3열의 0으로 채워진 텐서, 자료형 float32\n",
    "\n",
    "# 랜덤 텐서 생성\n",
    "print(torch.randn(2, 3), '\\n')   # 2행 3열의 랜덤 텐서, 자료형 float32\n",
    "\n"
   ]
  }
 ],
 "metadata": {
  "kernelspec": {
   "display_name": "ml_env",
   "language": "python",
   "name": "python3"
  },
  "language_info": {
   "codemirror_mode": {
    "name": "ipython",
    "version": 3
   },
   "file_extension": ".py",
   "mimetype": "text/x-python",
   "name": "python",
   "nbconvert_exporter": "python",
   "pygments_lexer": "ipython3",
   "version": "3.12.11"
  }
 },
 "nbformat": 4,
 "nbformat_minor": 5
}
